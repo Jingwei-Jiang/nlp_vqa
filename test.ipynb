{
 "cells": [
  {
   "cell_type": "code",
   "execution_count": 4,
   "id": "7e0c7488",
   "metadata": {},
   "outputs": [],
   "source": [
    "import dataset\n",
    "from tqdm import tqdm\n",
    "import math\n",
    "import config"
   ]
  },
  {
   "cell_type": "code",
   "execution_count": 5,
   "id": "1d1d2087",
   "metadata": {},
   "outputs": [
    {
     "name": "stdout",
     "output_type": "stream",
     "text": [
      "Generating answers vocab...\n",
      "Answers vocab is generated\n"
     ]
    }
   ],
   "source": [
    "a = dataset.data_loader(train=True)"
   ]
  },
  {
   "cell_type": "code",
   "execution_count": 7,
   "id": "680e0cd3",
   "metadata": {},
   "outputs": [
    {
     "name": "stderr",
     "output_type": "stream",
     "text": [
      "train E000:   0% 0/5768 [00:05<?, ?it/s]\n"
     ]
    },
    {
     "ename": "RuntimeError",
     "evalue": "Exception thrown from PyFunc. TypeError: mindspore\\ccsrc\\runtime\\device\\cpu\\kernel_select_cpu.cc:201 KernelNotSupportException] Operator[StridedSlice]  input(kNumberTypeUInt8) output(kNumberTypeUInt8) is not support. Trace: \n\n# \n\nAt:\n  C:\\Users\\11314\\anaconda3\\envs\\vqa\\lib\\site-packages\\mindspore\\ops\\primitive.py(649): _run_op\n  C:\\Users\\11314\\anaconda3\\envs\\vqa\\lib\\site-packages\\mindspore\\common\\api.py(75): wrapper\n  C:\\Users\\11314\\anaconda3\\envs\\vqa\\lib\\site-packages\\mindspore\\ops\\primitive.py(247): __call__\n  C:\\Users\\11314\\anaconda3\\envs\\vqa\\lib\\site-packages\\mindspore\\ops\\composite\\multitype_ops\\_compile_utils.py(308): _tensor_index_by_integer\n  C:\\Users\\11314\\anaconda3\\envs\\vqa\\lib\\site-packages\\mindspore\\ops\\composite\\multitype_ops\\_compile_utils.py(42): _tensor_getitem\n  C:\\Users\\11314\\anaconda3\\envs\\vqa\\lib\\site-packages\\mindspore\\common\\tensor.py(246): __getitem__\n  C:\\Users\\11314\\anaconda3\\envs\\vqa\\lib\\site-packages\\mindspore\\dataset\\engine\\datasets.py(3535): <listcomp>\n  C:\\Users\\11314\\anaconda3\\envs\\vqa\\lib\\site-packages\\mindspore\\dataset\\engine\\datasets.py(3535): _cpp_sampler_fn\n\nLine of code : 185\nFile         : D:\\jenkins\\agent-working-dir\\workspace\\Compile_CPU_Windows\\mindspore\\mindspore\\ccsrc\\minddata\\dataset\\engine\\datasetops\\source\\generator_op.cc\n",
     "output_type": "error",
     "traceback": [
      "\u001b[1;31m---------------------------------------------------------------------------\u001b[0m",
      "\u001b[1;31mRuntimeError\u001b[0m                              Traceback (most recent call last)",
      "\u001b[1;32m~\\AppData\\Local\\Temp\\ipykernel_5756\\1797336044.py\u001b[0m in \u001b[0;36m<module>\u001b[1;34m\u001b[0m\n\u001b[0;32m      1\u001b[0m \u001b[0mtq\u001b[0m \u001b[1;33m=\u001b[0m \u001b[0mtqdm\u001b[0m\u001b[1;33m(\u001b[0m\u001b[0ma\u001b[0m\u001b[1;33m,\u001b[0m \u001b[0mdesc\u001b[0m\u001b[1;33m=\u001b[0m\u001b[1;34m'{} E{:03d}'\u001b[0m\u001b[1;33m.\u001b[0m\u001b[0mformat\u001b[0m\u001b[1;33m(\u001b[0m\u001b[1;34m'train'\u001b[0m\u001b[1;33m,\u001b[0m \u001b[1;36m0\u001b[0m\u001b[1;33m)\u001b[0m\u001b[1;33m,\u001b[0m \u001b[0mncols\u001b[0m\u001b[1;33m=\u001b[0m\u001b[1;36m0\u001b[0m\u001b[1;33m,\u001b[0m \u001b[0mtotal\u001b[0m\u001b[1;33m=\u001b[0m\u001b[0mmath\u001b[0m\u001b[1;33m.\u001b[0m\u001b[0mceil\u001b[0m\u001b[1;33m(\u001b[0m\u001b[0mlen\u001b[0m\u001b[1;33m(\u001b[0m\u001b[0ma\u001b[0m\u001b[1;33m.\u001b[0m\u001b[0msource\u001b[0m\u001b[1;33m.\u001b[0m\u001b[0mquestions\u001b[0m\u001b[1;33m)\u001b[0m \u001b[1;33m/\u001b[0m \u001b[0mconfig\u001b[0m\u001b[1;33m.\u001b[0m\u001b[0mbatch_size\u001b[0m\u001b[1;33m)\u001b[0m\u001b[1;33m)\u001b[0m\u001b[1;33m\u001b[0m\u001b[1;33m\u001b[0m\u001b[0m\n\u001b[1;32m----> 2\u001b[1;33m \u001b[1;32mfor\u001b[0m \u001b[0mq\u001b[0m\u001b[1;33m,\u001b[0m\u001b[0ma\u001b[0m\u001b[1;33m,\u001b[0m\u001b[0mi\u001b[0m \u001b[1;32min\u001b[0m \u001b[0mtq\u001b[0m\u001b[1;33m:\u001b[0m\u001b[1;33m\u001b[0m\u001b[1;33m\u001b[0m\u001b[0m\n\u001b[0m\u001b[0;32m      3\u001b[0m     \u001b[0mprint\u001b[0m\u001b[1;33m(\u001b[0m\u001b[0mq\u001b[0m\u001b[1;33m,\u001b[0m\u001b[0ma\u001b[0m\u001b[1;33m,\u001b[0m\u001b[0mi\u001b[0m\u001b[1;33m)\u001b[0m\u001b[1;33m\u001b[0m\u001b[1;33m\u001b[0m\u001b[0m\n",
      "\u001b[1;32m~\\anaconda3\\envs\\vqa\\lib\\site-packages\\tqdm\\std.py\u001b[0m in \u001b[0;36m__iter__\u001b[1;34m(self)\u001b[0m\n\u001b[0;32m   1193\u001b[0m \u001b[1;33m\u001b[0m\u001b[0m\n\u001b[0;32m   1194\u001b[0m         \u001b[1;32mtry\u001b[0m\u001b[1;33m:\u001b[0m\u001b[1;33m\u001b[0m\u001b[1;33m\u001b[0m\u001b[0m\n\u001b[1;32m-> 1195\u001b[1;33m             \u001b[1;32mfor\u001b[0m \u001b[0mobj\u001b[0m \u001b[1;32min\u001b[0m \u001b[0miterable\u001b[0m\u001b[1;33m:\u001b[0m\u001b[1;33m\u001b[0m\u001b[1;33m\u001b[0m\u001b[0m\n\u001b[0m\u001b[0;32m   1196\u001b[0m                 \u001b[1;32myield\u001b[0m \u001b[0mobj\u001b[0m\u001b[1;33m\u001b[0m\u001b[1;33m\u001b[0m\u001b[0m\n\u001b[0;32m   1197\u001b[0m                 \u001b[1;31m# Update and possibly print the progressbar.\u001b[0m\u001b[1;33m\u001b[0m\u001b[1;33m\u001b[0m\u001b[1;33m\u001b[0m\u001b[0m\n",
      "\u001b[1;32m~\\anaconda3\\envs\\vqa\\lib\\site-packages\\mindspore\\dataset\\engine\\iterators.py\u001b[0m in \u001b[0;36m__next__\u001b[1;34m(self)\u001b[0m\n\u001b[0;32m    120\u001b[0m             \u001b[1;32mraise\u001b[0m \u001b[0mRuntimeError\u001b[0m\u001b[1;33m(\u001b[0m\u001b[1;34m\"Iterator does not have a running C++ pipeline.\"\u001b[0m\u001b[1;33m)\u001b[0m\u001b[1;33m\u001b[0m\u001b[1;33m\u001b[0m\u001b[0m\n\u001b[0;32m    121\u001b[0m \u001b[1;33m\u001b[0m\u001b[0m\n\u001b[1;32m--> 122\u001b[1;33m         \u001b[0mdata\u001b[0m \u001b[1;33m=\u001b[0m \u001b[0mself\u001b[0m\u001b[1;33m.\u001b[0m\u001b[0m_get_next\u001b[0m\u001b[1;33m(\u001b[0m\u001b[1;33m)\u001b[0m\u001b[1;33m\u001b[0m\u001b[1;33m\u001b[0m\u001b[0m\n\u001b[0m\u001b[0;32m    123\u001b[0m         \u001b[1;32mif\u001b[0m \u001b[1;32mnot\u001b[0m \u001b[0mdata\u001b[0m\u001b[1;33m:\u001b[0m\u001b[1;33m\u001b[0m\u001b[1;33m\u001b[0m\u001b[0m\n\u001b[0;32m    124\u001b[0m             \u001b[1;32mif\u001b[0m \u001b[0mself\u001b[0m\u001b[1;33m.\u001b[0m\u001b[0m__index\u001b[0m \u001b[1;33m==\u001b[0m \u001b[1;36m0\u001b[0m\u001b[1;33m:\u001b[0m\u001b[1;33m\u001b[0m\u001b[1;33m\u001b[0m\u001b[0m\n",
      "\u001b[1;32m~\\anaconda3\\envs\\vqa\\lib\\site-packages\\mindspore\\dataset\\engine\\iterators.py\u001b[0m in \u001b[0;36m_get_next\u001b[1;34m(self)\u001b[0m\n\u001b[0;32m    194\u001b[0m         \"\"\"\n\u001b[0;32m    195\u001b[0m \u001b[1;33m\u001b[0m\u001b[0m\n\u001b[1;32m--> 196\u001b[1;33m         \u001b[1;32mreturn\u001b[0m \u001b[1;33m[\u001b[0m\u001b[0mself\u001b[0m\u001b[1;33m.\u001b[0m\u001b[0m_transform_tensor\u001b[0m\u001b[1;33m(\u001b[0m\u001b[0mt\u001b[0m\u001b[1;33m)\u001b[0m \u001b[1;32mfor\u001b[0m \u001b[0mt\u001b[0m \u001b[1;32min\u001b[0m \u001b[0mself\u001b[0m\u001b[1;33m.\u001b[0m\u001b[0m_iterator\u001b[0m\u001b[1;33m.\u001b[0m\u001b[0mGetNextAsList\u001b[0m\u001b[1;33m(\u001b[0m\u001b[1;33m)\u001b[0m\u001b[1;33m]\u001b[0m\u001b[1;33m\u001b[0m\u001b[1;33m\u001b[0m\u001b[0m\n\u001b[0m\u001b[0;32m    197\u001b[0m \u001b[1;33m\u001b[0m\u001b[0m\n\u001b[0;32m    198\u001b[0m \u001b[1;33m\u001b[0m\u001b[0m\n",
      "\u001b[1;31mRuntimeError\u001b[0m: Exception thrown from PyFunc. TypeError: mindspore\\ccsrc\\runtime\\device\\cpu\\kernel_select_cpu.cc:201 KernelNotSupportException] Operator[StridedSlice]  input(kNumberTypeUInt8) output(kNumberTypeUInt8) is not support. Trace: \n\n# \n\nAt:\n  C:\\Users\\11314\\anaconda3\\envs\\vqa\\lib\\site-packages\\mindspore\\ops\\primitive.py(649): _run_op\n  C:\\Users\\11314\\anaconda3\\envs\\vqa\\lib\\site-packages\\mindspore\\common\\api.py(75): wrapper\n  C:\\Users\\11314\\anaconda3\\envs\\vqa\\lib\\site-packages\\mindspore\\ops\\primitive.py(247): __call__\n  C:\\Users\\11314\\anaconda3\\envs\\vqa\\lib\\site-packages\\mindspore\\ops\\composite\\multitype_ops\\_compile_utils.py(308): _tensor_index_by_integer\n  C:\\Users\\11314\\anaconda3\\envs\\vqa\\lib\\site-packages\\mindspore\\ops\\composite\\multitype_ops\\_compile_utils.py(42): _tensor_getitem\n  C:\\Users\\11314\\anaconda3\\envs\\vqa\\lib\\site-packages\\mindspore\\common\\tensor.py(246): __getitem__\n  C:\\Users\\11314\\anaconda3\\envs\\vqa\\lib\\site-packages\\mindspore\\dataset\\engine\\datasets.py(3535): <listcomp>\n  C:\\Users\\11314\\anaconda3\\envs\\vqa\\lib\\site-packages\\mindspore\\dataset\\engine\\datasets.py(3535): _cpp_sampler_fn\n\nLine of code : 185\nFile         : D:\\jenkins\\agent-working-dir\\workspace\\Compile_CPU_Windows\\mindspore\\mindspore\\ccsrc\\minddata\\dataset\\engine\\datasetops\\source\\generator_op.cc\n"
     ]
    }
   ],
   "source": [
    "tq = tqdm(a, desc='{} E{:03d}'.format('train', 0), ncols=0, total=math.ceil(len(a.source.questions) / config.batch_size))\n",
    "for q,a,i in tq:\n",
    "    print(q,a,i)"
   ]
  },
  {
   "cell_type": "code",
   "execution_count": 3,
   "id": "af0a74a4",
   "metadata": {},
   "outputs": [
    {
     "name": "stdout",
     "output_type": "stream",
     "text": [
      "0.0\n",
      "0.1\n",
      "0.1\n"
     ]
    }
   ],
   "source": [
    "for item in a.answers:\n",
    "    print(item[0])\n",
    "    print(item[1])\n",
    "    print(item[96])\n",
    "    break"
   ]
  },
  {
   "cell_type": "code",
   "execution_count": 18,
   "id": "18a025ce",
   "metadata": {},
   "outputs": [],
   "source": [
    "from mindspore import ops\n",
    "from mindspore import Tensor\n",
    "import numpy as np\n",
    "import mindspore\n",
    "from mindspore import nn"
   ]
  },
  {
   "cell_type": "code",
   "execution_count": 16,
   "id": "4b81fc79",
   "metadata": {},
   "outputs": [
    {
     "name": "stdout",
     "output_type": "stream",
     "text": [
      "(2, 2, 3)\n",
      "(2, 3, 2)\n"
     ]
    }
   ],
   "source": [
    "input_x = Tensor(np.array([[[1, 2, 3], [4, 5, 6]], [[7, 8, 9], [10, 11, 12]]]), mindspore.float32)\n",
    "print(input_x.shape)\n",
    "input_perm = (0, 2, 1)\n",
    "transpose = ops.Transpose()\n",
    "output = transpose(input_x, input_perm)\n",
    "print(output.shape)"
   ]
  },
  {
   "cell_type": "code",
   "execution_count": 19,
   "id": "8ad5daff",
   "metadata": {},
   "outputs": [
    {
     "data": {
      "text/plain": [
       "(2, 6)"
      ]
     },
     "execution_count": 19,
     "metadata": {},
     "output_type": "execute_result"
    }
   ],
   "source": [
    "flatten = nn.Flatten()\n",
    "flatten(output).shape"
   ]
  },
  {
   "cell_type": "code",
   "execution_count": 35,
   "id": "38cc41c0",
   "metadata": {},
   "outputs": [
    {
     "name": "stdout",
     "output_type": "stream",
     "text": [
      "0.6897267\n"
     ]
    }
   ],
   "source": [
    "loss = nn.SoftmaxCrossEntropyWithLogits(sparse=False, reduction='mean')\n",
    "logits = Tensor(np.array([[0.8,0.1,0.1]]), mindspore.float32)\n",
    "labels_np = np.array([[1,0,0]]).astype(np.float32)\n",
    "labels = Tensor(labels_np)\n",
    "output = loss(logits, labels)\n",
    "print(output)"
   ]
  },
  {
   "cell_type": "code",
   "execution_count": null,
   "id": "5068a28a",
   "metadata": {},
   "outputs": [],
   "source": []
  }
 ],
 "metadata": {
  "kernelspec": {
   "display_name": "vqa",
   "language": "python",
   "name": "vqa"
  },
  "language_info": {
   "codemirror_mode": {
    "name": "ipython",
    "version": 3
   },
   "file_extension": ".py",
   "mimetype": "text/x-python",
   "name": "python",
   "nbconvert_exporter": "python",
   "pygments_lexer": "ipython3",
   "version": "3.7.5"
  }
 },
 "nbformat": 4,
 "nbformat_minor": 5
}
