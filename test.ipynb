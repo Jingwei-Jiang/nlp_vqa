{
 "cells": [
  {
   "cell_type": "code",
   "execution_count": 1,
   "id": "7e0c7488",
   "metadata": {
    "pycharm": {
     "name": "#%%\n"
    }
   },
   "outputs": [],
   "source": [
    "import dataset\n",
    "from tqdm import tqdm\n",
    "import math\n",
    "import config"
   ]
  },
  {
   "cell_type": "code",
   "execution_count": null,
   "outputs": [],
   "source": [
    "a = dataset.get_loader(train=True)"
   ],
   "metadata": {
    "collapsed": false,
    "pycharm": {
     "name": "#%%\n"
    }
   }
  },
  {
   "cell_type": "code",
   "execution_count": null,
   "outputs": [],
   "source": [
    "loader = a.create_dict_iterator()"
   ],
   "metadata": {
    "collapsed": false,
    "pycharm": {
     "name": "#%%\n"
    }
   }
  },
  {
   "cell_type": "code",
   "execution_count": null,
   "outputs": [],
   "source": [
    "test = loader._get_next()\n",
    "print(test.keys())\n",
    "print(test['a'])\n",
    "print(test['img'])"
   ],
   "metadata": {
    "collapsed": false,
    "pycharm": {
     "name": "#%%\n"
    }
   }
  },
  {
   "cell_type": "code",
   "execution_count": 5,
   "id": "e10526cf",
   "metadata": {
    "pycharm": {
     "name": "#%%\n"
    }
   },
   "outputs": [
    {
     "ename": "RuntimeError",
     "evalue": "Exception thrown from PyFunc. TypeError: mindspore\\ccsrc\\runtime\\device\\cpu\\kernel_select_cpu.cc:201 KernelNotSupportException] Operator[StridedSlice]  input(kNumberTypeUInt8) output(kNumberTypeUInt8) is not support. Trace: \n\n# \n\nAt:\n  C:\\Users\\11314\\anaconda3\\envs\\vqa\\lib\\site-packages\\mindspore\\ops\\primitive.py(649): _run_op\n  C:\\Users\\11314\\anaconda3\\envs\\vqa\\lib\\site-packages\\mindspore\\common\\api.py(75): wrapper\n  C:\\Users\\11314\\anaconda3\\envs\\vqa\\lib\\site-packages\\mindspore\\ops\\primitive.py(247): __call__\n  C:\\Users\\11314\\anaconda3\\envs\\vqa\\lib\\site-packages\\mindspore\\ops\\composite\\multitype_ops\\_compile_utils.py(308): _tensor_index_by_integer\n  C:\\Users\\11314\\anaconda3\\envs\\vqa\\lib\\site-packages\\mindspore\\ops\\composite\\multitype_ops\\_compile_utils.py(42): _tensor_getitem\n  C:\\Users\\11314\\anaconda3\\envs\\vqa\\lib\\site-packages\\mindspore\\common\\tensor.py(246): __getitem__\n  C:\\Users\\11314\\anaconda3\\envs\\vqa\\lib\\site-packages\\mindspore\\dataset\\engine\\datasets.py(3535): <listcomp>\n  C:\\Users\\11314\\anaconda3\\envs\\vqa\\lib\\site-packages\\mindspore\\dataset\\engine\\datasets.py(3535): _cpp_sampler_fn\n\nLine of code : 185\nFile         : D:\\jenkins\\agent-working-dir\\workspace\\Compile_CPU_Windows\\mindspore\\mindspore\\ccsrc\\minddata\\dataset\\engine\\datasetops\\source\\generator_op.cc\n",
     "output_type": "error",
     "traceback": [
      "\u001B[1;31m---------------------------------------------------------------------------\u001B[0m",
      "\u001B[1;31mRuntimeError\u001B[0m                              Traceback (most recent call last)",
      "\u001B[1;32m~\\AppData\\Local\\Temp\\ipykernel_15704\\76208706.py\u001B[0m in \u001B[0;36m<module>\u001B[1;34m\u001B[0m\n\u001B[1;32m----> 1\u001B[1;33m \u001B[0mtest\u001B[0m \u001B[1;33m=\u001B[0m \u001B[0mloader\u001B[0m\u001B[1;33m.\u001B[0m\u001B[0m_get_next\u001B[0m\u001B[1;33m(\u001B[0m\u001B[1;33m)\u001B[0m\u001B[1;33m\u001B[0m\u001B[1;33m\u001B[0m\u001B[0m\n\u001B[0m\u001B[0;32m      2\u001B[0m \u001B[0mprint\u001B[0m\u001B[1;33m(\u001B[0m\u001B[0mtest\u001B[0m\u001B[1;33m.\u001B[0m\u001B[0mkeys\u001B[0m\u001B[1;33m(\u001B[0m\u001B[1;33m)\u001B[0m\u001B[1;33m)\u001B[0m\u001B[1;33m\u001B[0m\u001B[1;33m\u001B[0m\u001B[0m\n\u001B[0;32m      3\u001B[0m \u001B[0mprint\u001B[0m\u001B[1;33m(\u001B[0m\u001B[0mtest\u001B[0m\u001B[1;33m[\u001B[0m\u001B[1;34m'a'\u001B[0m\u001B[1;33m]\u001B[0m\u001B[1;33m)\u001B[0m\u001B[1;33m\u001B[0m\u001B[1;33m\u001B[0m\u001B[0m\n\u001B[0;32m      4\u001B[0m \u001B[0mprint\u001B[0m\u001B[1;33m(\u001B[0m\u001B[0mtest\u001B[0m\u001B[1;33m[\u001B[0m\u001B[1;34m'img'\u001B[0m\u001B[1;33m]\u001B[0m\u001B[1;33m)\u001B[0m\u001B[1;33m\u001B[0m\u001B[1;33m\u001B[0m\u001B[0m\n",
      "\u001B[1;32m~\\anaconda3\\envs\\vqa\\lib\\site-packages\\mindspore\\dataset\\engine\\iterators.py\u001B[0m in \u001B[0;36m_get_next\u001B[1;34m(self)\u001B[0m\n\u001B[0;32m    171\u001B[0m                 \u001B[0mlogger\u001B[0m\u001B[1;33m.\u001B[0m\u001B[0merror\u001B[0m\u001B[1;33m(\u001B[0m\u001B[1;34m\"Memory error occurred, process will exit.\"\u001B[0m\u001B[1;33m)\u001B[0m\u001B[1;33m\u001B[0m\u001B[1;33m\u001B[0m\u001B[0m\n\u001B[0;32m    172\u001B[0m                 \u001B[0mos\u001B[0m\u001B[1;33m.\u001B[0m\u001B[0mkill\u001B[0m\u001B[1;33m(\u001B[0m\u001B[0mos\u001B[0m\u001B[1;33m.\u001B[0m\u001B[0mgetpid\u001B[0m\u001B[1;33m(\u001B[0m\u001B[1;33m)\u001B[0m\u001B[1;33m,\u001B[0m \u001B[0msignal\u001B[0m\u001B[1;33m.\u001B[0m\u001B[0mSIGKILL\u001B[0m\u001B[1;33m)\u001B[0m\u001B[1;33m\u001B[0m\u001B[1;33m\u001B[0m\u001B[0m\n\u001B[1;32m--> 173\u001B[1;33m             \u001B[1;32mraise\u001B[0m \u001B[0merr\u001B[0m\u001B[1;33m\u001B[0m\u001B[1;33m\u001B[0m\u001B[0m\n\u001B[0m\u001B[0;32m    174\u001B[0m \u001B[1;33m\u001B[0m\u001B[0m\n\u001B[0;32m    175\u001B[0m \u001B[1;33m\u001B[0m\u001B[0m\n",
      "\u001B[1;32m~\\anaconda3\\envs\\vqa\\lib\\site-packages\\mindspore\\dataset\\engine\\iterators.py\u001B[0m in \u001B[0;36m_get_next\u001B[1;34m(self)\u001B[0m\n\u001B[0;32m    164\u001B[0m         \"\"\"\n\u001B[0;32m    165\u001B[0m         \u001B[1;32mtry\u001B[0m\u001B[1;33m:\u001B[0m\u001B[1;33m\u001B[0m\u001B[1;33m\u001B[0m\u001B[0m\n\u001B[1;32m--> 166\u001B[1;33m             \u001B[1;32mreturn\u001B[0m \u001B[1;33m{\u001B[0m\u001B[0mk\u001B[0m\u001B[1;33m:\u001B[0m \u001B[0mself\u001B[0m\u001B[1;33m.\u001B[0m\u001B[0m_transform_tensor\u001B[0m\u001B[1;33m(\u001B[0m\u001B[0mt\u001B[0m\u001B[1;33m)\u001B[0m \u001B[1;32mfor\u001B[0m \u001B[0mk\u001B[0m\u001B[1;33m,\u001B[0m \u001B[0mt\u001B[0m \u001B[1;32min\u001B[0m \u001B[0mself\u001B[0m\u001B[1;33m.\u001B[0m\u001B[0m_iterator\u001B[0m\u001B[1;33m.\u001B[0m\u001B[0mGetNextAsMap\u001B[0m\u001B[1;33m(\u001B[0m\u001B[1;33m)\u001B[0m\u001B[1;33m.\u001B[0m\u001B[0mitems\u001B[0m\u001B[1;33m(\u001B[0m\u001B[1;33m)\u001B[0m\u001B[1;33m}\u001B[0m\u001B[1;33m\u001B[0m\u001B[1;33m\u001B[0m\u001B[0m\n\u001B[0m\u001B[0;32m    167\u001B[0m         \u001B[1;32mexcept\u001B[0m \u001B[0mRuntimeError\u001B[0m \u001B[1;32mas\u001B[0m \u001B[0merr\u001B[0m\u001B[1;33m:\u001B[0m\u001B[1;33m\u001B[0m\u001B[1;33m\u001B[0m\u001B[0m\n\u001B[0;32m    168\u001B[0m             \u001B[1;31m## maybe \"Out of memory\" / \"MemoryError\" error\u001B[0m\u001B[1;33m\u001B[0m\u001B[1;33m\u001B[0m\u001B[1;33m\u001B[0m\u001B[0m\n",
      "\u001B[1;31mRuntimeError\u001B[0m: Exception thrown from PyFunc. TypeError: mindspore\\ccsrc\\runtime\\device\\cpu\\kernel_select_cpu.cc:201 KernelNotSupportException] Operator[StridedSlice]  input(kNumberTypeUInt8) output(kNumberTypeUInt8) is not support. Trace: \n\n# \n\nAt:\n  C:\\Users\\11314\\anaconda3\\envs\\vqa\\lib\\site-packages\\mindspore\\ops\\primitive.py(649): _run_op\n  C:\\Users\\11314\\anaconda3\\envs\\vqa\\lib\\site-packages\\mindspore\\common\\api.py(75): wrapper\n  C:\\Users\\11314\\anaconda3\\envs\\vqa\\lib\\site-packages\\mindspore\\ops\\primitive.py(247): __call__\n  C:\\Users\\11314\\anaconda3\\envs\\vqa\\lib\\site-packages\\mindspore\\ops\\composite\\multitype_ops\\_compile_utils.py(308): _tensor_index_by_integer\n  C:\\Users\\11314\\anaconda3\\envs\\vqa\\lib\\site-packages\\mindspore\\ops\\composite\\multitype_ops\\_compile_utils.py(42): _tensor_getitem\n  C:\\Users\\11314\\anaconda3\\envs\\vqa\\lib\\site-packages\\mindspore\\common\\tensor.py(246): __getitem__\n  C:\\Users\\11314\\anaconda3\\envs\\vqa\\lib\\site-packages\\mindspore\\dataset\\engine\\datasets.py(3535): <listcomp>\n  C:\\Users\\11314\\anaconda3\\envs\\vqa\\lib\\site-packages\\mindspore\\dataset\\engine\\datasets.py(3535): _cpp_sampler_fn\n\nLine of code : 185\nFile         : D:\\jenkins\\agent-working-dir\\workspace\\Compile_CPU_Windows\\mindspore\\mindspore\\ccsrc\\minddata\\dataset\\engine\\datasetops\\source\\generator_op.cc\n"
     ]
    }
   ],
   "source": [
    "test = loader._get_next()\n",
    "print(test.keys())\n",
    "print(test['a'])\n",
    "print(test['img'])"
   ]
  },
  {
   "cell_type": "code",
   "execution_count": 3,
   "id": "af0a74a4",
   "metadata": {
    "pycharm": {
     "name": "#%%\n"
    }
   },
   "outputs": [
    {
     "name": "stdout",
     "output_type": "stream",
     "text": [
      "0.0\n",
      "0.1\n",
      "0.1\n"
     ]
    }
   ],
   "source": [
    "for item in a.answers:\n",
    "    print(item[0])\n",
    "    print(item[1])\n",
    "    print(item[96])\n",
    "    break"
   ]
  },
  {
   "cell_type": "code",
   "execution_count": 18,
   "id": "18a025ce",
   "metadata": {
    "pycharm": {
     "name": "#%%\n"
    }
   },
   "outputs": [],
   "source": [
    "from mindspore import ops\n",
    "from mindspore import Tensor\n",
    "import numpy as np\n",
    "import mindspore\n",
    "from mindspore import nn"
   ]
  },
  {
   "cell_type": "code",
   "execution_count": 16,
   "id": "4b81fc79",
   "metadata": {
    "pycharm": {
     "name": "#%%\n"
    }
   },
   "outputs": [
    {
     "name": "stdout",
     "output_type": "stream",
     "text": [
      "(2, 2, 3)\n",
      "(2, 3, 2)\n"
     ]
    }
   ],
   "source": [
    "input_x = Tensor(np.array([[[1, 2, 3], [4, 5, 6]], [[7, 8, 9], [10, 11, 12]]]), mindspore.float32)\n",
    "print(input_x.shape)\n",
    "input_perm = (0, 2, 1)\n",
    "transpose = ops.Transpose()\n",
    "output = transpose(input_x, input_perm)\n",
    "print(output.shape)"
   ]
  },
  {
   "cell_type": "code",
   "execution_count": 19,
   "id": "8ad5daff",
   "metadata": {
    "pycharm": {
     "name": "#%%\n"
    }
   },
   "outputs": [
    {
     "data": {
      "text/plain": [
       "(2, 6)"
      ]
     },
     "execution_count": 19,
     "metadata": {},
     "output_type": "execute_result"
    }
   ],
   "source": [
    "flatten = nn.Flatten()\n",
    "flatten(output).shape"
   ]
  },
  {
   "cell_type": "code",
   "execution_count": 35,
   "id": "38cc41c0",
   "metadata": {
    "pycharm": {
     "name": "#%%\n"
    }
   },
   "outputs": [
    {
     "name": "stdout",
     "output_type": "stream",
     "text": [
      "0.6897267\n"
     ]
    }
   ],
   "source": [
    "loss = nn.SoftmaxCrossEntropyWithLogits(sparse=False, reduction='mean')\n",
    "logits = Tensor(np.array([[0.8,0.1,0.1]]), mindspore.float32)\n",
    "labels_np = np.array([[1,0,0]]).astype(np.float32)\n",
    "labels = Tensor(labels_np)\n",
    "output = loss(logits, labels)\n",
    "print(output)"
   ]
  },
  {
   "cell_type": "code",
   "execution_count": null,
   "id": "5068a28a",
   "metadata": {
    "pycharm": {
     "name": "#%%\n"
    }
   },
   "outputs": [],
   "source": []
  }
 ],
 "metadata": {
  "kernelspec": {
   "display_name": "vqa",
   "language": "python",
   "name": "vqa"
  },
  "language_info": {
   "codemirror_mode": {
    "name": "ipython",
    "version": 3
   },
   "file_extension": ".py",
   "mimetype": "text/x-python",
   "name": "python",
   "nbconvert_exporter": "python",
   "pygments_lexer": "ipython3",
   "version": "3.7.5"
  }
 },
 "nbformat": 4,
 "nbformat_minor": 5
}