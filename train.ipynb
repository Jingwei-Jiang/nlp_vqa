{
 "cells": [
  {
   "metadata": {
    "trusted": true,
    "pycharm": {
     "name": "#%%\n"
    }
   },
   "cell_type": "code",
   "source": [
    "import moxing as mox\n",
    "mox.file.copy_parallel(src_url=\"s3://focus/nlp/data/\", dst_url='../data/')\n",
    "mox.file.copy_parallel(src_url=\"s3://focus/nlp/nlp_vqa/\", dst_url='.')"
   ],
   "execution_count": 1,
   "outputs": [
    {
     "output_type": "stream",
     "text": "INFO:root:Using MoXing-v2.0.0.rc2.4b57a67b-4b57a67b\nINFO:root:Using OBS-Python-SDK-3.20.9.1\nINFO:root:Listing OBS: 1000\nINFO:root:Listing OBS: 2000\nINFO:root:Listing OBS: 3000\nINFO:root:Listing OBS: 4000\nINFO:root:Listing OBS: 5000\nINFO:root:Listing OBS: 6000\nINFO:root:Listing OBS: 7000\nINFO:root:Listing OBS: 8000\nINFO:root:Listing OBS: 9000\nINFO:root:Listing OBS: 10000\nINFO:root:Listing OBS: 11000\nINFO:root:Listing OBS: 12000\nINFO:root:Listing OBS: 13000\nINFO:root:Listing OBS: 14000\nINFO:root:Listing OBS: 15000\nINFO:root:Listing OBS: 16000\nINFO:root:Listing OBS: 17000\nINFO:root:Listing OBS: 18000\nINFO:root:Listing OBS: 19000\nINFO:root:Listing OBS: 20000\nINFO:root:Listing OBS: 21000\nINFO:root:Listing OBS: 22000\nINFO:root:Listing OBS: 23000\nINFO:root:Listing OBS: 24000\nINFO:root:Listing OBS: 25000\nINFO:root:Listing OBS: 26000\nINFO:root:Listing OBS: 27000\nINFO:root:Listing OBS: 28000\nINFO:root:Listing OBS: 29000\nINFO:root:Listing OBS: 30000\nINFO:root:Listing OBS: 31000\nINFO:root:Listing OBS: 32000\nINFO:root:Listing OBS: 33000\nINFO:root:Listing OBS: 34000\nINFO:root:Listing OBS: 35000\nINFO:root:Listing OBS: 36000\nINFO:root:Listing OBS: 37000\nINFO:root:Listing OBS: 38000\nINFO:root:Listing OBS: 39000\nINFO:root:Listing OBS: 40000\nINFO:root:Listing OBS: 41000\nINFO:root:Listing OBS: 42000\nINFO:root:Listing OBS: 43000\nINFO:root:Listing OBS: 44000\nINFO:root:Listing OBS: 45000\nINFO:root:Listing OBS: 46000\nINFO:root:Listing OBS: 47000\nINFO:root:Listing OBS: 48000\nINFO:root:Listing OBS: 49000\nINFO:root:Listing OBS: 50000\nINFO:root:Listing OBS: 51000\nINFO:root:Listing OBS: 52000\nINFO:root:Listing OBS: 53000\nINFO:root:Listing OBS: 54000\nINFO:root:Listing OBS: 55000\nINFO:root:Listing OBS: 56000\nINFO:root:Listing OBS: 57000\nINFO:root:Listing OBS: 58000\nINFO:root:Listing OBS: 59000\nINFO:root:Listing OBS: 60000\nINFO:root:Listing OBS: 61000\nINFO:root:Listing OBS: 62000\nINFO:root:Listing OBS: 63000\nINFO:root:Listing OBS: 64000\nINFO:root:Listing OBS: 65000\nINFO:root:Listing OBS: 66000\nINFO:root:Listing OBS: 67000\nINFO:root:Listing OBS: 68000\nINFO:root:Listing OBS: 69000\nINFO:root:Listing OBS: 70000\nINFO:root:Listing OBS: 71000\nINFO:root:pid: None.\t1000/71903\nINFO:root:pid: None.\t2000/71903\nINFO:root:pid: None.\t3000/71903\nINFO:root:pid: None.\t4000/71903\nINFO:root:pid: None.\t5000/71903\nINFO:root:pid: None.\t6000/71903\nINFO:root:pid: None.\t7000/71903\nINFO:root:pid: None.\t8000/71903\nINFO:root:pid: None.\t9000/71903\nINFO:root:pid: None.\t10000/71903\nINFO:root:pid: None.\t11000/71903\nINFO:root:pid: None.\t12000/71903\nINFO:root:pid: None.\t13000/71903\nINFO:root:pid: None.\t14000/71903\nINFO:root:pid: None.\t15000/71903\nINFO:root:pid: None.\t16000/71903\nINFO:root:pid: None.\t17000/71903\nINFO:root:pid: None.\t18000/71903\nINFO:root:pid: None.\t19000/71903\nINFO:root:pid: None.\t20000/71903\nINFO:root:pid: None.\t21000/71903\nINFO:root:pid: None.\t22000/71903\nINFO:root:pid: None.\t23000/71903\nINFO:root:pid: None.\t24000/71903\nINFO:root:pid: None.\t25000/71903\nINFO:root:pid: None.\t26000/71903\nINFO:root:pid: None.\t27000/71903\nINFO:root:pid: None.\t28000/71903\nINFO:root:pid: None.\t29000/71903\nINFO:root:pid: None.\t30000/71903\nINFO:root:pid: None.\t31000/71903\nINFO:root:pid: None.\t32000/71903\nINFO:root:pid: None.\t33000/71903\nINFO:root:pid: None.\t34000/71903\nINFO:root:pid: None.\t35000/71903\nINFO:root:pid: None.\t36000/71903\nINFO:root:pid: None.\t37000/71903\nINFO:root:pid: None.\t38000/71903\nINFO:root:pid: None.\t39000/71903\nINFO:root:pid: None.\t40000/71903\nINFO:root:pid: None.\t41000/71903\nINFO:root:pid: None.\t42000/71903\nINFO:root:pid: None.\t43000/71903\nINFO:root:pid: None.\t44000/71903\nINFO:root:pid: None.\t45000/71903\nINFO:root:pid: None.\t46000/71903\nINFO:root:pid: None.\t47000/71903\nINFO:root:pid: None.\t48000/71903\nINFO:root:pid: None.\t49000/71903\nINFO:root:pid: None.\t50000/71903\nINFO:root:pid: None.\t51000/71903\nINFO:root:pid: None.\t52000/71903\nINFO:root:pid: None.\t53000/71903\nINFO:root:pid: None.\t54000/71903\nINFO:root:pid: None.\t55000/71903\nINFO:root:pid: None.\t56000/71903\nINFO:root:pid: None.\t57000/71903\nINFO:root:pid: None.\t58000/71903\nINFO:root:pid: None.\t59000/71903\nINFO:root:pid: None.\t60000/71903\nINFO:root:pid: None.\t61000/71903\nINFO:root:pid: None.\t62000/71903\nINFO:root:pid: None.\t63000/71903\nINFO:root:pid: None.\t64000/71903\nINFO:root:pid: None.\t65000/71903\nINFO:root:pid: None.\t66000/71903\nINFO:root:pid: None.\t67000/71903\nINFO:root:pid: None.\t68000/71903\nINFO:root:pid: None.\t69000/71903\nINFO:root:pid: None.\t70000/71903\nINFO:root:pid: None.\t71000/71903\nINFO:root:Listing OBS: 1000\nINFO:root:Listing OBS: 2000\nINFO:root:Listing OBS: 3000\nINFO:root:Listing OBS: 4000\nINFO:root:Listing OBS: 5000\nINFO:root:Listing OBS: 6000\nINFO:root:Listing OBS: 7000\nINFO:root:Listing OBS: 8000\nINFO:root:Listing OBS: 9000\nINFO:root:Listing OBS: 10000\nINFO:root:Listing OBS: 11000\nINFO:root:Listing OBS: 12000\nINFO:root:Listing OBS: 13000\nINFO:root:pid: None.\t1000/13564\nINFO:root:pid: None.\t2000/13564\nINFO:root:pid: None.\t3000/13564\nINFO:root:pid: None.\t4000/13564\nINFO:root:pid: None.\t5000/13564\nINFO:root:pid: None.\t6000/13564\nINFO:root:pid: None.\t7000/13564\nINFO:root:pid: None.\t8000/13564\nINFO:root:pid: None.\t9000/13564\nINFO:root:pid: None.\t10000/13564\nINFO:root:pid: None.\t11000/13564\nINFO:root:pid: None.\t12000/13564\nINFO:root:pid: None.\t13000/13564\n",
     "name": "stderr"
    }
   ]
  },
  {
   "metadata": {
    "trusted": true,
    "pycharm": {
     "name": "#%%\n"
    }
   },
   "cell_type": "code",
   "source": [
    "!pip install tqdm\n",
    "!pip install git+https://github.com/lvyufeng/bert4ms"
   ],
   "execution_count": 3,
   "outputs": [
    {
     "output_type": "stream",
     "text": "Looking in indexes: http://repo.myhuaweicloud.com/repository/pypi/simple\nRequirement already satisfied: tqdm in /home/ma-user/miniconda3/envs/MindSpore-python3.7-aarch64/lib/python3.7/site-packages (4.63.1)\nLooking in indexes: http://repo.myhuaweicloud.com/repository/pypi/simple\nCollecting git+https://github.com/lvyufeng/bert4ms\n  Cloning https://github.com/lvyufeng/bert4ms to /tmp/pip-req-build-rroc79kv\n  Running command git clone -q https://github.com/lvyufeng/bert4ms /tmp/pip-req-build-rroc79kv\n",
     "name": "stdout"
    }
   ]
  },
  {
   "metadata": {
    "trusted": true,
    "pycharm": {
     "name": "#%%\n"
    }
   },
   "cell_type": "code",
   "source": [
    "import sys\n",
    "import os.path\n",
    "import mindspore\n",
    "from mindspore import Tensor, nn, Model, context\n",
    "from mindspore import load_checkpoint, load_param_into_net\n",
    "from mindspore import ops\n",
    "from mindspore.ops import functional as F\n",
    "from mindspore.ops import composite as C\n",
    "from mindspore.common.parameter import ParameterTuple\n",
    "from mindspore.train.callback import LossMonitor, CheckpointConfig, ModelCheckpoint, TimeMonitor\n",
    "# from mindspore.nn import WithLossCell\n",
    "import numpy as np\n",
    "from tqdm import tqdm\n",
    "import config\n",
    "import dataset\n",
    "import san\n",
    "import utils\n",
    "import mindspore.context as context\n",
    "import json\n",
    "import math\n",
    "from datetime import datetime\n",
    "from bert4ms import models \n",
    "context.set_context(mode=context.PYNATIVE_MODE, device_target='Ascend')"
   ],
   "execution_count": 4,
   "outputs": []
  },
  {
   "metadata": {
    "trusted": true,
    "pycharm": {
     "name": "#%%\n"
    }
   },
   "cell_type": "code",
   "source": [
    "# class NLLLoss(nn.LossBase):\n",
    "#     def __init__(self, reduction='mean'):\n",
    "#         super(NLLLoss, self).__init__(reduction)\n",
    "#         self.reduce_sum = ops.ReduceSum()\n",
    "#         self.log_softmax = ops.LogSoftmax(axis=0)\n",
    "\n",
    "#     def construct(self, logits, label):\n",
    "#         logits = Tensor(logits).astype(mindspore.float32)\n",
    "#         label = Tensor(label).astype(mindspore.int32)\n",
    "#         nll = -self.log_softmax(logits)\n",
    "#         loss = self.reduce_sum(nll * label / config.alter_ans_num, axis=1).mean()\n",
    "#         return self.get_loss(loss)\n",
    "\n",
    "\n",
    "class WithLossCell(nn.Cell):\n",
    "    \"\"\"\n",
    "    The cell wrapped with NLL loss, for train only\n",
    "    \"\"\"\n",
    "    def __init__(self, model):\n",
    "        super(WithLossCell, self).__init__(auto_prefix=False)\n",
    "        self._loss_fn = ops.NLLLoss()\n",
    "        self.net = model\n",
    "\n",
    "    def construct(self, q, a, img):\n",
    "        weights = Tensor(np.ones(q.shape[1]),np.float32)\n",
    "        q = Tensor(q,np.float32)\n",
    "        img = Tensor(img,np.float32)\n",
    "        a = Tensor(a,np.int32)\n",
    "        out = self.net(q, img)\n",
    "        loss,_ = self._loss_fn(out, a, weights)\n",
    "        return loss\n",
    "\n",
    "\n",
    "class TrainOneStepCell(nn.Cell):\n",
    "    def __init__(self, network, optimizer, sens=1.0):\n",
    "        super(TrainOneStepCell, self).__init__(auto_prefix=False)\n",
    "        self.network = network\n",
    "        self.network.add_flags(defer_inline=True)\n",
    "        self.weights = ParameterTuple(network.trainable_params())\n",
    "        self.optimizer = optimizer\n",
    "        self.grad = C.GradOperation(get_by_list=True)\n",
    "        self.sens = sens\n",
    "\n",
    "    def construct(self, q, a, img):\n",
    "        weights = self.weights\n",
    "        loss = self.network(q, a, img)\n",
    "        sens = ops.Fill()(ops.DType()(loss), ops.Shape()(loss), self.sens)\n",
    "        grads = self.grad(self.network, weights)(q, a, img, sens)\n",
    "        return F.depend(loss, self.optimizer(grads))\n",
    "\n",
    "\n",
    "class TrainNetWrapper(nn.Cell):\n",
    "    \"\"\"\n",
    "    The highest level train cell. (use it directly)\n",
    "    \"\"\"\n",
    "\n",
    "    def __init__(self, model):\n",
    "        super(TrainNetWrapper, self).__init__(auto_prefix=False)\n",
    "        self.net = model\n",
    "\n",
    "        self.loss_net = WithLossCell(self.net)#need q, a, img\n",
    "        optimizer = nn.Adam(params=self.net.trainable_params(), learning_rate=config.initial_lr)\n",
    "\n",
    "        self.loss_train_net = TrainOneStepCell(self.loss_net, optimizer)\n",
    "\n",
    "    def construct(self, q, a, img):\n",
    "        loss = self.loss_train_net(q, a, img)\n",
    "        out = self.net(q, img)\n",
    "        accuracy = utils.batch_accuracy(out, a)\n",
    "        return loss, accuracy\n",
    "\n",
    "\n",
    "class OutLossAccuracyWrapper(nn.Cell):\n",
    "    \"\"\"\n",
    "    The highest level cell for evaluation, wrapped with NLL Loss and accuracy. (use it directly)\n",
    "    \n",
    "    Output:\n",
    "        output: a Tensor of shape (batch_size, config.max_answers) (logits)\n",
    "        loss: a scalar value\n",
    "        accuracy: a Tensor of shape (batch_size, 1)\n",
    "    \"\"\"\n",
    "    def __init__(self, model):\n",
    "        super(OutLossAccuracyWrapper, self).__init__()\n",
    "        self.net = model\n",
    "        self._loss_fn = ops.NLLLoss()\n",
    "\n",
    "    def construct(self, q, a, img):\n",
    "        output = self.net(q, img)\n",
    "        loss = self._loss_fn(output, a)\n",
    "        accuracy = utils.batch_accuracy(output, a)\n",
    "        return output, loss, accuracy\n",
    "\n",
    "\n",
    "def run(net, loader, epoch, train=False, prefix=''):\n",
    "    \"\"\" Run an epoch over the given loader \"\"\"\n",
    "    arg_max = ops.Argmax(axis=1, output_type=mindspore.int32)\n",
    "    cat = ops.Concat(axis=0)\n",
    "    losses = []\n",
    "    accs = []\n",
    "\n",
    "    if train:\n",
    "        net.set_train(True)\n",
    "        print(\"Start training...\")\n",
    "    else:\n",
    "        print(\"Start evaluating...\")\n",
    "        net.set_train(False)\n",
    "        answers = []\n",
    "\n",
    "    tq = tqdm(loader, desc='{} EPOCH{:02d}'.format(prefix, epoch), ncols=0, total=math.ceil(len(loader.source) / config.batch_size))\n",
    "    for q, a, img in tq:\n",
    "        q = Tensor(q,mindspore.float32)\n",
    "        a = Tensor(a,mindspore.int32)\n",
    "        img = Tensor(img,mindspore.float32)\n",
    "        if train:\n",
    "            loss, acc = net(q, a, img)\n",
    "        else:\n",
    "            output, loss, acc = net(q, a, img)\n",
    "            answer = arg_max(output)\n",
    "            answers.append(answer.view(-1))\n",
    "        losses.append(loss.view(-1))\n",
    "        accs.append(acc.view(-1))\n",
    "    answers = list(map(int, list(cat(answers).asnumpy())))\n",
    "    accs = list(cat(accs).asnumpy().astype(float))\n",
    "    if not train:\n",
    "        return answers, accs\n",
    "    else:\n",
    "        return losses, accs"
   ],
   "execution_count": 4,
   "outputs": []
  },
  {
   "metadata": {
    "trusted": true,
    "pycharm": {
     "name": "#%%\n"
    }
   },
   "cell_type": "code",
   "source": [
    "if __name__ == '__main__':\n",
    "    # if config.device == 'GPU': os.environ['CUDA_VISIBLE_DEVICES'] = '1' # select GPU if necessary\n",
    "    # context.set_context(mode=context.PYNATIVE_MODE, device_target=config.device)\n",
    "\n",
    "    name = datetime.now().strftime(\"%Y-%m-%d_%H:%M:%S\")\n",
    "    target_name = os.path.join('logs', '{}.ckpt'.format(name))\n",
    "    print('The model will be saved to {}'.format(target_name))\n",
    "\n",
    "    val_loader = dataset.get_loader(val=True)\n",
    "\n",
    "    model = san.SANModel()\n",
    "\n",
    "    # if config.pretrained:\n",
    "    #     pretrain_params = load_checkpoint(config.pretrained_model_path)\n",
    "    #     if pretrain_params is not None:\n",
    "    #         print(\"Successfully loaded pretrained model from {}.\".format(config.pretrained_model_path))\n",
    "    #     load_param_into_net(SAN, pretrain_params)\n",
    "\n",
    "    train_net = TrainNetWrapper(model) # for train\n",
    "    eval_net = OutLossAccuracyWrapper(model) # for evaluation\n",
    "    step = 0\n",
    "\n",
    "    for epoch in range(config.epochs):\n",
    "        train_loader = dataset.get_loader(train=True)\n",
    "        \n",
    "        run(train_net, train_loader,train=True, prefix='train', epoch=epoch)\n",
    "        answers, accs = run(eval_net, val_loader, train=False, prefix='val', epoch=epoch)\n",
    "        \n",
    "        # Calculate the validate accuracy mean of each batch\n",
    "        total_acc = 0\n",
    "        for acc_list in accs:\n",
    "            total_acc += sum(acc_list)\n",
    "        total_acc /= len(accs)*len(accs[0])\n",
    "\n",
    "        results = {\n",
    "            'name': name,\n",
    "            # 'tracker': tracker.to_dict(),\n",
    "            'accuracy': total_acc,\n",
    "            'eval': {\n",
    "                'answers': answers,\n",
    "                'accuracies': accs\n",
    "            },\n",
    "            'vocab': train_loader.source.ans_to_idx,\n",
    "        }\n",
    "\n",
    "        # Save model as CKPT every 5 epochs\n",
    "        if epoch % 5 == 0:\n",
    "            mindspore.save_checkpoint(train_net.net, ckpt_file_name=os.path.join('logs', '{}.ckpt'.format(name)))\n",
    "        \n",
    "        # Save train meta info as JSON\n",
    "        with open(os.path.join('logs', 'TrainRecord_{}.json'.format(name)), 'w') as fp:\n",
    "            fp.write(json.dumps(results))"
   ],
   "execution_count": 5,
   "outputs": [
    {
     "output_type": "stream",
     "text": "The model will be saved to logs/2022-06-26_08:36:03.ckpt\n",
     "name": "stdout"
    },
    {
     "output_type": "stream",
     "text": "INFO:root:The checkpoint file not found, start to download.\n",
     "name": "stderr"
    },
    {
     "output_type": "stream",
     "text": "Generating answers vocab...\nAnswers vocab is generated\n",
     "name": "stdout"
    },
    {
     "output_type": "stream",
     "text": "INFO:root:The checkpoint file not found, start to download.\nINFO:root:The checkpoint file not found, start to download.\n[WARNING] ME(6569:281473167982176,MainProcess):2022-06-26-08:36:11.513.438 [mindspore/train/serialization.py:581] Remove parameter prefix name: bert., continue to load.\nINFO:root:The checkpoint file not found, start to download.\n",
     "name": "stderr"
    },
    {
     "output_type": "stream",
     "text": "Generating answers vocab...\nAnswers vocab is generated\nStart training...\n",
     "name": "stdout"
    },
    {
     "output_type": "stream",
     "text": "train EPOCH00:   0% 0/5768 [00:03<?, ?it/s]\n",
     "name": "stderr"
    },
    {
     "output_type": "error",
     "ename": "NameError",
     "evalue": "name 'astype' is not defined",
     "traceback": [
      "\u001B[0;31m---------------------------------------------------------------------------\u001B[0m",
      "\u001B[0;31mNameError\u001B[0m                                 Traceback (most recent call last)",
      "\u001B[0;32m<ipython-input-5-c38a96792fd4>\u001B[0m in \u001B[0;36m<module>\u001B[0;34m\u001B[0m\n\u001B[1;32m     24\u001B[0m         \u001B[0mtrain_loader\u001B[0m \u001B[0;34m=\u001B[0m \u001B[0mdataset\u001B[0m\u001B[0;34m.\u001B[0m\u001B[0mget_loader\u001B[0m\u001B[0;34m(\u001B[0m\u001B[0mtrain\u001B[0m\u001B[0;34m=\u001B[0m\u001B[0;32mTrue\u001B[0m\u001B[0;34m)\u001B[0m\u001B[0;34m\u001B[0m\u001B[0;34m\u001B[0m\u001B[0m\n\u001B[1;32m     25\u001B[0m \u001B[0;34m\u001B[0m\u001B[0m\n\u001B[0;32m---> 26\u001B[0;31m         \u001B[0mrun\u001B[0m\u001B[0;34m(\u001B[0m\u001B[0mtrain_net\u001B[0m\u001B[0;34m,\u001B[0m \u001B[0mtrain_loader\u001B[0m\u001B[0;34m,\u001B[0m\u001B[0mtrain\u001B[0m\u001B[0;34m=\u001B[0m\u001B[0;32mTrue\u001B[0m\u001B[0;34m,\u001B[0m \u001B[0mprefix\u001B[0m\u001B[0;34m=\u001B[0m\u001B[0;34m'train'\u001B[0m\u001B[0;34m,\u001B[0m \u001B[0mepoch\u001B[0m\u001B[0;34m=\u001B[0m\u001B[0mepoch\u001B[0m\u001B[0;34m)\u001B[0m\u001B[0;34m\u001B[0m\u001B[0;34m\u001B[0m\u001B[0m\n\u001B[0m\u001B[1;32m     27\u001B[0m         \u001B[0manswers\u001B[0m\u001B[0;34m,\u001B[0m \u001B[0maccs\u001B[0m \u001B[0;34m=\u001B[0m \u001B[0mrun\u001B[0m\u001B[0;34m(\u001B[0m\u001B[0meval_net\u001B[0m\u001B[0;34m,\u001B[0m \u001B[0mval_loader\u001B[0m\u001B[0;34m,\u001B[0m \u001B[0mtrain\u001B[0m\u001B[0;34m=\u001B[0m\u001B[0;32mFalse\u001B[0m\u001B[0;34m,\u001B[0m \u001B[0mprefix\u001B[0m\u001B[0;34m=\u001B[0m\u001B[0;34m'val'\u001B[0m\u001B[0;34m,\u001B[0m \u001B[0mepoch\u001B[0m\u001B[0;34m=\u001B[0m\u001B[0mepoch\u001B[0m\u001B[0;34m)\u001B[0m\u001B[0;34m\u001B[0m\u001B[0;34m\u001B[0m\u001B[0m\n\u001B[1;32m     28\u001B[0m \u001B[0;34m\u001B[0m\u001B[0m\n",
      "\u001B[0;32m<ipython-input-4-3c0615f27235>\u001B[0m in \u001B[0;36mrun\u001B[0;34m(net, loader, epoch, train, prefix)\u001B[0m\n\u001B[1;32m    113\u001B[0m         \u001B[0mimg\u001B[0m \u001B[0;34m=\u001B[0m \u001B[0mTensor\u001B[0m\u001B[0;34m(\u001B[0m\u001B[0mimg\u001B[0m\u001B[0;34m,\u001B[0m\u001B[0mmindspore\u001B[0m\u001B[0;34m.\u001B[0m\u001B[0mfloat32\u001B[0m\u001B[0;34m)\u001B[0m\u001B[0;34m\u001B[0m\u001B[0;34m\u001B[0m\u001B[0m\n\u001B[1;32m    114\u001B[0m         \u001B[0;32mif\u001B[0m \u001B[0mtrain\u001B[0m\u001B[0;34m:\u001B[0m\u001B[0;34m\u001B[0m\u001B[0;34m\u001B[0m\u001B[0m\n\u001B[0;32m--> 115\u001B[0;31m             \u001B[0mloss\u001B[0m\u001B[0;34m,\u001B[0m \u001B[0macc\u001B[0m \u001B[0;34m=\u001B[0m \u001B[0mnet\u001B[0m\u001B[0;34m(\u001B[0m\u001B[0mq\u001B[0m\u001B[0;34m,\u001B[0m \u001B[0ma\u001B[0m\u001B[0;34m,\u001B[0m \u001B[0mimg\u001B[0m\u001B[0;34m)\u001B[0m\u001B[0;34m\u001B[0m\u001B[0;34m\u001B[0m\u001B[0m\n\u001B[0m\u001B[1;32m    116\u001B[0m         \u001B[0;32melse\u001B[0m\u001B[0;34m:\u001B[0m\u001B[0;34m\u001B[0m\u001B[0;34m\u001B[0m\u001B[0m\n\u001B[1;32m    117\u001B[0m             \u001B[0moutput\u001B[0m\u001B[0;34m,\u001B[0m \u001B[0mloss\u001B[0m\u001B[0;34m,\u001B[0m \u001B[0macc\u001B[0m \u001B[0;34m=\u001B[0m \u001B[0mnet\u001B[0m\u001B[0;34m(\u001B[0m\u001B[0mq\u001B[0m\u001B[0;34m,\u001B[0m \u001B[0ma\u001B[0m\u001B[0;34m,\u001B[0m \u001B[0mimg\u001B[0m\u001B[0;34m)\u001B[0m\u001B[0;34m\u001B[0m\u001B[0;34m\u001B[0m\u001B[0m\n",
      "\u001B[0;32m~/miniconda3/envs/MindSpore-python3.7-aarch64/lib/python3.7/site-packages/mindspore/nn/cell.py\u001B[0m in \u001B[0;36m__call__\u001B[0;34m(self, *inputs, **kwargs)\u001B[0m\n\u001B[1;32m    402\u001B[0m         \u001B[0;32mif\u001B[0m \u001B[0;32mnot\u001B[0m \u001B[0mcast_inputs\u001B[0m\u001B[0;34m:\u001B[0m\u001B[0;34m\u001B[0m\u001B[0;34m\u001B[0m\u001B[0m\n\u001B[1;32m    403\u001B[0m             \u001B[0mcast_inputs\u001B[0m \u001B[0;34m=\u001B[0m \u001B[0minputs\u001B[0m\u001B[0;34m\u001B[0m\u001B[0;34m\u001B[0m\u001B[0m\n\u001B[0;32m--> 404\u001B[0;31m         \u001B[0moutput\u001B[0m \u001B[0;34m=\u001B[0m \u001B[0mself\u001B[0m\u001B[0;34m.\u001B[0m\u001B[0mrun_construct\u001B[0m\u001B[0;34m(\u001B[0m\u001B[0mcast_inputs\u001B[0m\u001B[0;34m,\u001B[0m \u001B[0mkwargs\u001B[0m\u001B[0;34m)\u001B[0m\u001B[0;34m\u001B[0m\u001B[0;34m\u001B[0m\u001B[0m\n\u001B[0m\u001B[1;32m    405\u001B[0m         \u001B[0;32mif\u001B[0m \u001B[0misinstance\u001B[0m\u001B[0;34m(\u001B[0m\u001B[0moutput\u001B[0m\u001B[0;34m,\u001B[0m \u001B[0mParameter\u001B[0m\u001B[0;34m)\u001B[0m\u001B[0;34m:\u001B[0m\u001B[0;34m\u001B[0m\u001B[0;34m\u001B[0m\u001B[0m\n\u001B[1;32m    406\u001B[0m             \u001B[0moutput\u001B[0m \u001B[0;34m=\u001B[0m \u001B[0moutput\u001B[0m\u001B[0;34m.\u001B[0m\u001B[0mdata\u001B[0m\u001B[0;34m\u001B[0m\u001B[0;34m\u001B[0m\u001B[0m\n",
      "\u001B[0;32m~/miniconda3/envs/MindSpore-python3.7-aarch64/lib/python3.7/site-packages/mindspore/nn/cell.py\u001B[0m in \u001B[0;36mrun_construct\u001B[0;34m(self, cast_inputs, kwargs)\u001B[0m\n\u001B[1;32m    343\u001B[0m         \u001B[0;32melse\u001B[0m\u001B[0;34m:\u001B[0m\u001B[0;34m\u001B[0m\u001B[0;34m\u001B[0m\u001B[0m\n\u001B[1;32m    344\u001B[0m             \u001B[0m_pynative_exec\u001B[0m\u001B[0;34m.\u001B[0m\u001B[0menter_construct\u001B[0m\u001B[0;34m(\u001B[0m\u001B[0mself\u001B[0m\u001B[0;34m)\u001B[0m\u001B[0;34m\u001B[0m\u001B[0;34m\u001B[0m\u001B[0m\n\u001B[0;32m--> 345\u001B[0;31m             \u001B[0moutput\u001B[0m \u001B[0;34m=\u001B[0m \u001B[0mself\u001B[0m\u001B[0;34m.\u001B[0m\u001B[0mconstruct\u001B[0m\u001B[0;34m(\u001B[0m\u001B[0;34m*\u001B[0m\u001B[0mcast_inputs\u001B[0m\u001B[0;34m,\u001B[0m \u001B[0;34m**\u001B[0m\u001B[0mkwargs\u001B[0m\u001B[0;34m)\u001B[0m\u001B[0;34m\u001B[0m\u001B[0;34m\u001B[0m\u001B[0m\n\u001B[0m\u001B[1;32m    346\u001B[0m             \u001B[0m_pynative_exec\u001B[0m\u001B[0;34m.\u001B[0m\u001B[0mleave_construct\u001B[0m\u001B[0;34m(\u001B[0m\u001B[0mself\u001B[0m\u001B[0;34m)\u001B[0m\u001B[0;34m\u001B[0m\u001B[0;34m\u001B[0m\u001B[0m\n\u001B[1;32m    347\u001B[0m         \u001B[0;32mreturn\u001B[0m \u001B[0moutput\u001B[0m\u001B[0;34m\u001B[0m\u001B[0;34m\u001B[0m\u001B[0m\n",
      "\u001B[0;32m<ipython-input-4-3c0615f27235>\u001B[0m in \u001B[0;36mconstruct\u001B[0;34m(self, q, a, img)\u001B[0m\n\u001B[1;32m     65\u001B[0m \u001B[0;34m\u001B[0m\u001B[0m\n\u001B[1;32m     66\u001B[0m     \u001B[0;32mdef\u001B[0m \u001B[0mconstruct\u001B[0m\u001B[0;34m(\u001B[0m\u001B[0mself\u001B[0m\u001B[0;34m,\u001B[0m \u001B[0mq\u001B[0m\u001B[0;34m,\u001B[0m \u001B[0ma\u001B[0m\u001B[0;34m,\u001B[0m \u001B[0mimg\u001B[0m\u001B[0;34m)\u001B[0m\u001B[0;34m:\u001B[0m\u001B[0;34m\u001B[0m\u001B[0;34m\u001B[0m\u001B[0m\n\u001B[0;32m---> 67\u001B[0;31m         \u001B[0mloss\u001B[0m \u001B[0;34m=\u001B[0m \u001B[0mself\u001B[0m\u001B[0;34m.\u001B[0m\u001B[0mloss_train_net\u001B[0m\u001B[0;34m(\u001B[0m\u001B[0mq\u001B[0m\u001B[0;34m,\u001B[0m \u001B[0ma\u001B[0m\u001B[0;34m,\u001B[0m \u001B[0mimg\u001B[0m\u001B[0;34m)\u001B[0m\u001B[0;34m\u001B[0m\u001B[0;34m\u001B[0m\u001B[0m\n\u001B[0m\u001B[1;32m     68\u001B[0m         \u001B[0mout\u001B[0m \u001B[0;34m=\u001B[0m \u001B[0mself\u001B[0m\u001B[0;34m.\u001B[0m\u001B[0mnet\u001B[0m\u001B[0;34m(\u001B[0m\u001B[0mq\u001B[0m\u001B[0;34m,\u001B[0m \u001B[0mimg\u001B[0m\u001B[0;34m)\u001B[0m\u001B[0;34m\u001B[0m\u001B[0;34m\u001B[0m\u001B[0m\n\u001B[1;32m     69\u001B[0m         \u001B[0maccuracy\u001B[0m \u001B[0;34m=\u001B[0m \u001B[0mutils\u001B[0m\u001B[0;34m.\u001B[0m\u001B[0mbatch_accuracy\u001B[0m\u001B[0;34m(\u001B[0m\u001B[0mout\u001B[0m\u001B[0;34m,\u001B[0m \u001B[0ma\u001B[0m\u001B[0;34m)\u001B[0m\u001B[0;34m\u001B[0m\u001B[0;34m\u001B[0m\u001B[0m\n",
      "\u001B[0;32m~/miniconda3/envs/MindSpore-python3.7-aarch64/lib/python3.7/site-packages/mindspore/nn/cell.py\u001B[0m in \u001B[0;36m__call__\u001B[0;34m(self, *inputs, **kwargs)\u001B[0m\n\u001B[1;32m    402\u001B[0m         \u001B[0;32mif\u001B[0m \u001B[0;32mnot\u001B[0m \u001B[0mcast_inputs\u001B[0m\u001B[0;34m:\u001B[0m\u001B[0;34m\u001B[0m\u001B[0;34m\u001B[0m\u001B[0m\n\u001B[1;32m    403\u001B[0m             \u001B[0mcast_inputs\u001B[0m \u001B[0;34m=\u001B[0m \u001B[0minputs\u001B[0m\u001B[0;34m\u001B[0m\u001B[0;34m\u001B[0m\u001B[0m\n\u001B[0;32m--> 404\u001B[0;31m         \u001B[0moutput\u001B[0m \u001B[0;34m=\u001B[0m \u001B[0mself\u001B[0m\u001B[0;34m.\u001B[0m\u001B[0mrun_construct\u001B[0m\u001B[0;34m(\u001B[0m\u001B[0mcast_inputs\u001B[0m\u001B[0;34m,\u001B[0m \u001B[0mkwargs\u001B[0m\u001B[0;34m)\u001B[0m\u001B[0;34m\u001B[0m\u001B[0;34m\u001B[0m\u001B[0m\n\u001B[0m\u001B[1;32m    405\u001B[0m         \u001B[0;32mif\u001B[0m \u001B[0misinstance\u001B[0m\u001B[0;34m(\u001B[0m\u001B[0moutput\u001B[0m\u001B[0;34m,\u001B[0m \u001B[0mParameter\u001B[0m\u001B[0;34m)\u001B[0m\u001B[0;34m:\u001B[0m\u001B[0;34m\u001B[0m\u001B[0;34m\u001B[0m\u001B[0m\n\u001B[1;32m    406\u001B[0m             \u001B[0moutput\u001B[0m \u001B[0;34m=\u001B[0m \u001B[0moutput\u001B[0m\u001B[0;34m.\u001B[0m\u001B[0mdata\u001B[0m\u001B[0;34m\u001B[0m\u001B[0;34m\u001B[0m\u001B[0m\n",
      "\u001B[0;32m~/miniconda3/envs/MindSpore-python3.7-aarch64/lib/python3.7/site-packages/mindspore/nn/cell.py\u001B[0m in \u001B[0;36mrun_construct\u001B[0;34m(self, cast_inputs, kwargs)\u001B[0m\n\u001B[1;32m    343\u001B[0m         \u001B[0;32melse\u001B[0m\u001B[0;34m:\u001B[0m\u001B[0;34m\u001B[0m\u001B[0;34m\u001B[0m\u001B[0m\n\u001B[1;32m    344\u001B[0m             \u001B[0m_pynative_exec\u001B[0m\u001B[0;34m.\u001B[0m\u001B[0menter_construct\u001B[0m\u001B[0;34m(\u001B[0m\u001B[0mself\u001B[0m\u001B[0;34m)\u001B[0m\u001B[0;34m\u001B[0m\u001B[0;34m\u001B[0m\u001B[0m\n\u001B[0;32m--> 345\u001B[0;31m             \u001B[0moutput\u001B[0m \u001B[0;34m=\u001B[0m \u001B[0mself\u001B[0m\u001B[0;34m.\u001B[0m\u001B[0mconstruct\u001B[0m\u001B[0;34m(\u001B[0m\u001B[0;34m*\u001B[0m\u001B[0mcast_inputs\u001B[0m\u001B[0;34m,\u001B[0m \u001B[0;34m**\u001B[0m\u001B[0mkwargs\u001B[0m\u001B[0;34m)\u001B[0m\u001B[0;34m\u001B[0m\u001B[0;34m\u001B[0m\u001B[0m\n\u001B[0m\u001B[1;32m    346\u001B[0m             \u001B[0m_pynative_exec\u001B[0m\u001B[0;34m.\u001B[0m\u001B[0mleave_construct\u001B[0m\u001B[0;34m(\u001B[0m\u001B[0mself\u001B[0m\u001B[0;34m)\u001B[0m\u001B[0;34m\u001B[0m\u001B[0;34m\u001B[0m\u001B[0m\n\u001B[1;32m    347\u001B[0m         \u001B[0;32mreturn\u001B[0m \u001B[0moutput\u001B[0m\u001B[0;34m\u001B[0m\u001B[0;34m\u001B[0m\u001B[0m\n",
      "\u001B[0;32m<ipython-input-4-3c0615f27235>\u001B[0m in \u001B[0;36mconstruct\u001B[0;34m(self, q, a, img)\u001B[0m\n\u001B[1;32m     44\u001B[0m     \u001B[0;32mdef\u001B[0m \u001B[0mconstruct\u001B[0m\u001B[0;34m(\u001B[0m\u001B[0mself\u001B[0m\u001B[0;34m,\u001B[0m \u001B[0mq\u001B[0m\u001B[0;34m,\u001B[0m \u001B[0ma\u001B[0m\u001B[0;34m,\u001B[0m \u001B[0mimg\u001B[0m\u001B[0;34m)\u001B[0m\u001B[0;34m:\u001B[0m\u001B[0;34m\u001B[0m\u001B[0;34m\u001B[0m\u001B[0m\n\u001B[1;32m     45\u001B[0m         \u001B[0mweights\u001B[0m \u001B[0;34m=\u001B[0m \u001B[0mself\u001B[0m\u001B[0;34m.\u001B[0m\u001B[0mweights\u001B[0m\u001B[0;34m\u001B[0m\u001B[0;34m\u001B[0m\u001B[0m\n\u001B[0;32m---> 46\u001B[0;31m         \u001B[0mloss\u001B[0m \u001B[0;34m=\u001B[0m \u001B[0mself\u001B[0m\u001B[0;34m.\u001B[0m\u001B[0mnetwork\u001B[0m\u001B[0;34m(\u001B[0m\u001B[0mq\u001B[0m\u001B[0;34m,\u001B[0m \u001B[0ma\u001B[0m\u001B[0;34m,\u001B[0m \u001B[0mimg\u001B[0m\u001B[0;34m)\u001B[0m\u001B[0;34m\u001B[0m\u001B[0;34m\u001B[0m\u001B[0m\n\u001B[0m\u001B[1;32m     47\u001B[0m         \u001B[0msens\u001B[0m \u001B[0;34m=\u001B[0m \u001B[0mops\u001B[0m\u001B[0;34m.\u001B[0m\u001B[0mFill\u001B[0m\u001B[0;34m(\u001B[0m\u001B[0;34m)\u001B[0m\u001B[0;34m(\u001B[0m\u001B[0mops\u001B[0m\u001B[0;34m.\u001B[0m\u001B[0mDType\u001B[0m\u001B[0;34m(\u001B[0m\u001B[0;34m)\u001B[0m\u001B[0;34m(\u001B[0m\u001B[0mloss\u001B[0m\u001B[0;34m)\u001B[0m\u001B[0;34m,\u001B[0m \u001B[0mops\u001B[0m\u001B[0;34m.\u001B[0m\u001B[0mShape\u001B[0m\u001B[0;34m(\u001B[0m\u001B[0;34m)\u001B[0m\u001B[0;34m(\u001B[0m\u001B[0mloss\u001B[0m\u001B[0;34m)\u001B[0m\u001B[0;34m,\u001B[0m \u001B[0mself\u001B[0m\u001B[0;34m.\u001B[0m\u001B[0msens\u001B[0m\u001B[0;34m)\u001B[0m\u001B[0;34m\u001B[0m\u001B[0;34m\u001B[0m\u001B[0m\n\u001B[1;32m     48\u001B[0m         \u001B[0mgrads\u001B[0m \u001B[0;34m=\u001B[0m \u001B[0mself\u001B[0m\u001B[0;34m.\u001B[0m\u001B[0mgrad\u001B[0m\u001B[0;34m(\u001B[0m\u001B[0mself\u001B[0m\u001B[0;34m.\u001B[0m\u001B[0mnetwork\u001B[0m\u001B[0;34m,\u001B[0m \u001B[0mweights\u001B[0m\u001B[0;34m)\u001B[0m\u001B[0;34m(\u001B[0m\u001B[0mq\u001B[0m\u001B[0;34m,\u001B[0m \u001B[0ma\u001B[0m\u001B[0;34m,\u001B[0m \u001B[0mimg\u001B[0m\u001B[0;34m,\u001B[0m \u001B[0msens\u001B[0m\u001B[0;34m)\u001B[0m\u001B[0;34m\u001B[0m\u001B[0;34m\u001B[0m\u001B[0m\n",
      "\u001B[0;32m~/miniconda3/envs/MindSpore-python3.7-aarch64/lib/python3.7/site-packages/mindspore/nn/cell.py\u001B[0m in \u001B[0;36m__call__\u001B[0;34m(self, *inputs, **kwargs)\u001B[0m\n\u001B[1;32m    402\u001B[0m         \u001B[0;32mif\u001B[0m \u001B[0;32mnot\u001B[0m \u001B[0mcast_inputs\u001B[0m\u001B[0;34m:\u001B[0m\u001B[0;34m\u001B[0m\u001B[0;34m\u001B[0m\u001B[0m\n\u001B[1;32m    403\u001B[0m             \u001B[0mcast_inputs\u001B[0m \u001B[0;34m=\u001B[0m \u001B[0minputs\u001B[0m\u001B[0;34m\u001B[0m\u001B[0;34m\u001B[0m\u001B[0m\n\u001B[0;32m--> 404\u001B[0;31m         \u001B[0moutput\u001B[0m \u001B[0;34m=\u001B[0m \u001B[0mself\u001B[0m\u001B[0;34m.\u001B[0m\u001B[0mrun_construct\u001B[0m\u001B[0;34m(\u001B[0m\u001B[0mcast_inputs\u001B[0m\u001B[0;34m,\u001B[0m \u001B[0mkwargs\u001B[0m\u001B[0;34m)\u001B[0m\u001B[0;34m\u001B[0m\u001B[0;34m\u001B[0m\u001B[0m\n\u001B[0m\u001B[1;32m    405\u001B[0m         \u001B[0;32mif\u001B[0m \u001B[0misinstance\u001B[0m\u001B[0;34m(\u001B[0m\u001B[0moutput\u001B[0m\u001B[0;34m,\u001B[0m \u001B[0mParameter\u001B[0m\u001B[0;34m)\u001B[0m\u001B[0;34m:\u001B[0m\u001B[0;34m\u001B[0m\u001B[0;34m\u001B[0m\u001B[0m\n\u001B[1;32m    406\u001B[0m             \u001B[0moutput\u001B[0m \u001B[0;34m=\u001B[0m \u001B[0moutput\u001B[0m\u001B[0;34m.\u001B[0m\u001B[0mdata\u001B[0m\u001B[0;34m\u001B[0m\u001B[0;34m\u001B[0m\u001B[0m\n",
      "\u001B[0;32m~/miniconda3/envs/MindSpore-python3.7-aarch64/lib/python3.7/site-packages/mindspore/nn/cell.py\u001B[0m in \u001B[0;36mrun_construct\u001B[0;34m(self, cast_inputs, kwargs)\u001B[0m\n\u001B[1;32m    343\u001B[0m         \u001B[0;32melse\u001B[0m\u001B[0;34m:\u001B[0m\u001B[0;34m\u001B[0m\u001B[0;34m\u001B[0m\u001B[0m\n\u001B[1;32m    344\u001B[0m             \u001B[0m_pynative_exec\u001B[0m\u001B[0;34m.\u001B[0m\u001B[0menter_construct\u001B[0m\u001B[0;34m(\u001B[0m\u001B[0mself\u001B[0m\u001B[0;34m)\u001B[0m\u001B[0;34m\u001B[0m\u001B[0;34m\u001B[0m\u001B[0m\n\u001B[0;32m--> 345\u001B[0;31m             \u001B[0moutput\u001B[0m \u001B[0;34m=\u001B[0m \u001B[0mself\u001B[0m\u001B[0;34m.\u001B[0m\u001B[0mconstruct\u001B[0m\u001B[0;34m(\u001B[0m\u001B[0;34m*\u001B[0m\u001B[0mcast_inputs\u001B[0m\u001B[0;34m,\u001B[0m \u001B[0;34m**\u001B[0m\u001B[0mkwargs\u001B[0m\u001B[0;34m)\u001B[0m\u001B[0;34m\u001B[0m\u001B[0;34m\u001B[0m\u001B[0m\n\u001B[0m\u001B[1;32m    346\u001B[0m             \u001B[0m_pynative_exec\u001B[0m\u001B[0;34m.\u001B[0m\u001B[0mleave_construct\u001B[0m\u001B[0;34m(\u001B[0m\u001B[0mself\u001B[0m\u001B[0;34m)\u001B[0m\u001B[0;34m\u001B[0m\u001B[0;34m\u001B[0m\u001B[0m\n\u001B[1;32m    347\u001B[0m         \u001B[0;32mreturn\u001B[0m \u001B[0moutput\u001B[0m\u001B[0;34m\u001B[0m\u001B[0;34m\u001B[0m\u001B[0m\n",
      "\u001B[0;32m<ipython-input-4-3c0615f27235>\u001B[0m in \u001B[0;36mconstruct\u001B[0;34m(self, q, a, img)\u001B[0m\n\u001B[1;32m     23\u001B[0m \u001B[0;34m\u001B[0m\u001B[0m\n\u001B[1;32m     24\u001B[0m     \u001B[0;32mdef\u001B[0m \u001B[0mconstruct\u001B[0m\u001B[0;34m(\u001B[0m\u001B[0mself\u001B[0m\u001B[0;34m,\u001B[0m \u001B[0mq\u001B[0m\u001B[0;34m,\u001B[0m \u001B[0ma\u001B[0m\u001B[0;34m,\u001B[0m \u001B[0mimg\u001B[0m\u001B[0;34m)\u001B[0m\u001B[0;34m:\u001B[0m\u001B[0;34m\u001B[0m\u001B[0;34m\u001B[0m\u001B[0m\n\u001B[0;32m---> 25\u001B[0;31m         \u001B[0mweights\u001B[0m \u001B[0;34m=\u001B[0m \u001B[0mTensor\u001B[0m\u001B[0;34m(\u001B[0m\u001B[0mnp\u001B[0m\u001B[0;34m.\u001B[0m\u001B[0mones\u001B[0m\u001B[0;34m(\u001B[0m\u001B[0mq\u001B[0m\u001B[0;34m.\u001B[0m\u001B[0mshape\u001B[0m\u001B[0;34m[\u001B[0m\u001B[0;36m1\u001B[0m\u001B[0;34m]\u001B[0m\u001B[0;34m)\u001B[0m\u001B[0;34m,\u001B[0m\u001B[0mastype\u001B[0m\u001B[0;34m(\u001B[0m\u001B[0mnp\u001B[0m\u001B[0;34m.\u001B[0m\u001B[0mfloat32\u001B[0m\u001B[0;34m)\u001B[0m\u001B[0;34m)\u001B[0m\u001B[0;34m\u001B[0m\u001B[0;34m\u001B[0m\u001B[0m\n\u001B[0m\u001B[1;32m     26\u001B[0m         \u001B[0mq\u001B[0m \u001B[0;34m=\u001B[0m \u001B[0mTensor\u001B[0m\u001B[0;34m(\u001B[0m\u001B[0mq\u001B[0m\u001B[0;34m,\u001B[0m\u001B[0mnp\u001B[0m\u001B[0;34m.\u001B[0m\u001B[0mfloat32\u001B[0m\u001B[0;34m)\u001B[0m\u001B[0;34m\u001B[0m\u001B[0;34m\u001B[0m\u001B[0m\n\u001B[1;32m     27\u001B[0m         \u001B[0mimg\u001B[0m \u001B[0;34m=\u001B[0m \u001B[0mTensor\u001B[0m\u001B[0;34m(\u001B[0m\u001B[0mimg\u001B[0m\u001B[0;34m,\u001B[0m\u001B[0mnp\u001B[0m\u001B[0;34m.\u001B[0m\u001B[0mfloat32\u001B[0m\u001B[0;34m)\u001B[0m\u001B[0;34m\u001B[0m\u001B[0;34m\u001B[0m\u001B[0m\n",
      "\u001B[0;31mNameError\u001B[0m: name 'astype' is not defined"
     ]
    }
   ]
  },
  {
   "metadata": {
    "trusted": true,
    "pycharm": {
     "name": "#%%\n"
    }
   },
   "cell_type": "code",
   "source": [
    "img = np.array([[1,2,3],[4,5,6]])\n",
    "print(type(img))\n",
    "img = Tensor(img,mindspore.float32)\n",
    "print(type(img))\n",
    "print(img)\n",
    "print(img.shape)\n",
    "print(img.dtype)"
   ],
   "execution_count": 9,
   "outputs": [
    {
     "output_type": "stream",
     "text": "<class 'numpy.ndarray'>\n<class 'mindspore.common.tensor.Tensor'>\n[[1. 2. 3.]\n [4. 5. 6.]]\n(2, 3)\nFloat32\n",
     "name": "stdout"
    }
   ]
  },
  {
   "metadata": {
    "trusted": true,
    "pycharm": {
     "name": "#%%\n"
    }
   },
   "cell_type": "code",
   "source": [
    "train_loader = dataset.get_loader(train=True)"
   ],
   "execution_count": 5,
   "outputs": [
    {
     "output_type": "stream",
     "text": "INFO:root:The checkpoint file not found, start to download.\n",
     "name": "stderr"
    },
    {
     "output_type": "stream",
     "text": "Generating answers vocab...\nAnswers vocab is generated\n",
     "name": "stdout"
    }
   ]
  },
  {
   "metadata": {
    "trusted": true,
    "pycharm": {
     "name": "#%%\n"
    }
   },
   "cell_type": "code",
   "source": [
    "from bert4ms import BertTokenizer, BertModel\n",
    "bert=BertModel.load('bert-base-uncased')\n",
    "tq = tqdm(train_loader, desc='{} EPOCH{:02d}'.format('train', 0), ncols=0, total=math.ceil(len(train_loader.source.questions) / config.batch_size))\n",
    "for q, a, img in tq:\n",
    "    q = [ Tensor([k],mindspore.float32) for k in q ]\n",
    "    result = bert(q)\n",
    "    print(result)"
   ],
   "execution_count": null,
   "outputs": [
    {
     "output_type": "stream",
     "text": "INFO:root:The checkpoint file not found, start to download.\nINFO:root:The checkpoint file not found, start to download.\n[WARNING] ME(7434:281473878158944,MainProcess):2022-06-26-08:45:47.835.386 [mindspore/train/serialization.py:581] Remove parameter prefix name: bert., continue to load.\ntrain EPOCH00:   0% 0/5768 [00:00<?, ?it/s]",
     "name": "stderr"
    }
   ]
  },
  {
   "metadata": {
    "trusted": true,
    "pycharm": {
     "name": "#%%\n"
    }
   },
   "cell_type": "code",
   "source": [
    "from bert4ms import BertTokenizer, BertModel\n",
    "tokenizer = BertTokenizer.load('bert-base-uncased')\n",
    "model = BertModel.load('bert-base-uncased')\n",
    "model.set_train(False)\n",
    "inputs = mindspore.Tensor([tokenizer.encode(\"Here is some text to encode\", add_special_tokens=True)], mindspore.int32)\n",
    "result=model(inputs)\n",
    "print(result)"
   ],
   "execution_count": 8,
   "outputs": [
    {
     "output_type": "stream",
     "text": "INFO:root:The checkpoint file not found, start to download.\nINFO:root:The checkpoint file not found, start to download.\nINFO:root:The checkpoint file not found, start to download.\n[WARNING] ME(6569:281473167982176,MainProcess):2022-06-26-08:41:32.497.557 [mindspore/train/serialization.py:581] Remove parameter prefix name: bert., continue to load.\n",
     "name": "stderr"
    },
    {
     "output_type": "error",
     "ename": "AttributeError",
     "evalue": "'Tensor' object has no attribute 'expand_dims'",
     "traceback": [
      "\u001B[0;31m---------------------------------------------------------------------------\u001B[0m",
      "\u001B[0;31mAttributeError\u001B[0m                            Traceback (most recent call last)",
      "\u001B[0;32m<ipython-input-8-e55a9aeb8724>\u001B[0m in \u001B[0;36m<module>\u001B[0;34m\u001B[0m\n\u001B[1;32m      4\u001B[0m \u001B[0mmodel\u001B[0m\u001B[0;34m.\u001B[0m\u001B[0mset_train\u001B[0m\u001B[0;34m(\u001B[0m\u001B[0;32mFalse\u001B[0m\u001B[0;34m)\u001B[0m\u001B[0;34m\u001B[0m\u001B[0;34m\u001B[0m\u001B[0m\n\u001B[1;32m      5\u001B[0m \u001B[0minputs\u001B[0m \u001B[0;34m=\u001B[0m \u001B[0mmindspore\u001B[0m\u001B[0;34m.\u001B[0m\u001B[0mTensor\u001B[0m\u001B[0;34m(\u001B[0m\u001B[0;34m[\u001B[0m\u001B[0mtokenizer\u001B[0m\u001B[0;34m.\u001B[0m\u001B[0mencode\u001B[0m\u001B[0;34m(\u001B[0m\u001B[0;34m\"Here is some text to encode\"\u001B[0m\u001B[0;34m,\u001B[0m \u001B[0madd_special_tokens\u001B[0m\u001B[0;34m=\u001B[0m\u001B[0;32mTrue\u001B[0m\u001B[0;34m)\u001B[0m\u001B[0;34m]\u001B[0m\u001B[0;34m,\u001B[0m \u001B[0mmindspore\u001B[0m\u001B[0;34m.\u001B[0m\u001B[0mint32\u001B[0m\u001B[0;34m)\u001B[0m\u001B[0;34m\u001B[0m\u001B[0;34m\u001B[0m\u001B[0m\n\u001B[0;32m----> 6\u001B[0;31m \u001B[0mresult\u001B[0m\u001B[0;34m=\u001B[0m\u001B[0mmodel\u001B[0m\u001B[0;34m(\u001B[0m\u001B[0minputs\u001B[0m\u001B[0;34m)\u001B[0m\u001B[0;34m\u001B[0m\u001B[0;34m\u001B[0m\u001B[0m\n\u001B[0m\u001B[1;32m      7\u001B[0m \u001B[0mprint\u001B[0m\u001B[0;34m(\u001B[0m\u001B[0mresult\u001B[0m\u001B[0;34m)\u001B[0m\u001B[0;34m\u001B[0m\u001B[0;34m\u001B[0m\u001B[0m\n",
      "\u001B[0;32m~/miniconda3/envs/MindSpore-python3.7-aarch64/lib/python3.7/site-packages/mindspore/nn/cell.py\u001B[0m in \u001B[0;36m__call__\u001B[0;34m(self, *inputs, **kwargs)\u001B[0m\n\u001B[1;32m    402\u001B[0m         \u001B[0;32mif\u001B[0m \u001B[0;32mnot\u001B[0m \u001B[0mcast_inputs\u001B[0m\u001B[0;34m:\u001B[0m\u001B[0;34m\u001B[0m\u001B[0;34m\u001B[0m\u001B[0m\n\u001B[1;32m    403\u001B[0m             \u001B[0mcast_inputs\u001B[0m \u001B[0;34m=\u001B[0m \u001B[0minputs\u001B[0m\u001B[0;34m\u001B[0m\u001B[0;34m\u001B[0m\u001B[0m\n\u001B[0;32m--> 404\u001B[0;31m         \u001B[0moutput\u001B[0m \u001B[0;34m=\u001B[0m \u001B[0mself\u001B[0m\u001B[0;34m.\u001B[0m\u001B[0mrun_construct\u001B[0m\u001B[0;34m(\u001B[0m\u001B[0mcast_inputs\u001B[0m\u001B[0;34m,\u001B[0m \u001B[0mkwargs\u001B[0m\u001B[0;34m)\u001B[0m\u001B[0;34m\u001B[0m\u001B[0;34m\u001B[0m\u001B[0m\n\u001B[0m\u001B[1;32m    405\u001B[0m         \u001B[0;32mif\u001B[0m \u001B[0misinstance\u001B[0m\u001B[0;34m(\u001B[0m\u001B[0moutput\u001B[0m\u001B[0;34m,\u001B[0m \u001B[0mParameter\u001B[0m\u001B[0;34m)\u001B[0m\u001B[0;34m:\u001B[0m\u001B[0;34m\u001B[0m\u001B[0;34m\u001B[0m\u001B[0m\n\u001B[1;32m    406\u001B[0m             \u001B[0moutput\u001B[0m \u001B[0;34m=\u001B[0m \u001B[0moutput\u001B[0m\u001B[0;34m.\u001B[0m\u001B[0mdata\u001B[0m\u001B[0;34m\u001B[0m\u001B[0;34m\u001B[0m\u001B[0m\n",
      "\u001B[0;32m~/miniconda3/envs/MindSpore-python3.7-aarch64/lib/python3.7/site-packages/mindspore/nn/cell.py\u001B[0m in \u001B[0;36mrun_construct\u001B[0;34m(self, cast_inputs, kwargs)\u001B[0m\n\u001B[1;32m    343\u001B[0m         \u001B[0;32melse\u001B[0m\u001B[0;34m:\u001B[0m\u001B[0;34m\u001B[0m\u001B[0;34m\u001B[0m\u001B[0m\n\u001B[1;32m    344\u001B[0m             \u001B[0m_pynative_exec\u001B[0m\u001B[0;34m.\u001B[0m\u001B[0menter_construct\u001B[0m\u001B[0;34m(\u001B[0m\u001B[0mself\u001B[0m\u001B[0;34m)\u001B[0m\u001B[0;34m\u001B[0m\u001B[0;34m\u001B[0m\u001B[0m\n\u001B[0;32m--> 345\u001B[0;31m             \u001B[0moutput\u001B[0m \u001B[0;34m=\u001B[0m \u001B[0mself\u001B[0m\u001B[0;34m.\u001B[0m\u001B[0mconstruct\u001B[0m\u001B[0;34m(\u001B[0m\u001B[0;34m*\u001B[0m\u001B[0mcast_inputs\u001B[0m\u001B[0;34m,\u001B[0m \u001B[0;34m**\u001B[0m\u001B[0mkwargs\u001B[0m\u001B[0;34m)\u001B[0m\u001B[0;34m\u001B[0m\u001B[0;34m\u001B[0m\u001B[0m\n\u001B[0m\u001B[1;32m    346\u001B[0m             \u001B[0m_pynative_exec\u001B[0m\u001B[0;34m.\u001B[0m\u001B[0mleave_construct\u001B[0m\u001B[0;34m(\u001B[0m\u001B[0mself\u001B[0m\u001B[0;34m)\u001B[0m\u001B[0;34m\u001B[0m\u001B[0;34m\u001B[0m\u001B[0m\n\u001B[1;32m    347\u001B[0m         \u001B[0;32mreturn\u001B[0m \u001B[0moutput\u001B[0m\u001B[0;34m\u001B[0m\u001B[0;34m\u001B[0m\u001B[0m\n",
      "\u001B[0;32m~/work/bert4ms/models/bert.py\u001B[0m in \u001B[0;36mconstruct\u001B[0;34m(self, input_ids, attention_mask, token_type_ids, position_ids, head_mask)\u001B[0m\n\u001B[1;32m    362\u001B[0m             \u001B[0mtoken_type_ids\u001B[0m \u001B[0;34m=\u001B[0m \u001B[0mmnp\u001B[0m\u001B[0;34m.\u001B[0m\u001B[0mwhere\u001B[0m\u001B[0;34m(\u001B[0m\u001B[0minput_ids\u001B[0m\u001B[0;34m,\u001B[0m \u001B[0mx\u001B[0m\u001B[0;34m,\u001B[0m \u001B[0my\u001B[0m\u001B[0;34m)\u001B[0m\u001B[0;34m\u001B[0m\u001B[0;34m\u001B[0m\u001B[0m\n\u001B[1;32m    363\u001B[0m \u001B[0;34m\u001B[0m\u001B[0m\n\u001B[0;32m--> 364\u001B[0;31m         \u001B[0mextended_attention_mask\u001B[0m \u001B[0;34m=\u001B[0m \u001B[0mattention_mask\u001B[0m\u001B[0;34m.\u001B[0m\u001B[0mexpand_dims\u001B[0m\u001B[0;34m(\u001B[0m\u001B[0;36m1\u001B[0m\u001B[0;34m)\u001B[0m\u001B[0;34m.\u001B[0m\u001B[0mexpand_dims\u001B[0m\u001B[0;34m(\u001B[0m\u001B[0;36m2\u001B[0m\u001B[0;34m)\u001B[0m\u001B[0;34m\u001B[0m\u001B[0;34m\u001B[0m\u001B[0m\n\u001B[0m\u001B[1;32m    365\u001B[0m         \u001B[0mextended_attention_mask\u001B[0m \u001B[0;34m=\u001B[0m \u001B[0;34m(\u001B[0m\u001B[0;36m1.0\u001B[0m \u001B[0;34m-\u001B[0m \u001B[0mextended_attention_mask\u001B[0m\u001B[0;34m)\u001B[0m \u001B[0;34m*\u001B[0m \u001B[0;34m-\u001B[0m\u001B[0;36m10000.0\u001B[0m\u001B[0;34m\u001B[0m\u001B[0;34m\u001B[0m\u001B[0m\n\u001B[1;32m    366\u001B[0m \u001B[0;34m\u001B[0m\u001B[0m\n",
      "\u001B[0;31mAttributeError\u001B[0m: 'Tensor' object has no attribute 'expand_dims'"
     ]
    }
   ]
  },
  {
   "metadata": {
    "trusted": true,
    "pycharm": {
     "name": "#%%\n"
    }
   },
   "cell_type": "code",
   "source": [],
   "execution_count": null,
   "outputs": []
  }
 ],
 "metadata": {
  "kernelspec": {
   "name": "mindspore-python3.7-aarch64",
   "display_name": "MindSpore-python3.7-aarch64",
   "language": "python"
  },
  "language_info": {
   "name": "python",
   "version": "3.7.6",
   "mimetype": "text/x-python",
   "codemirror_mode": {
    "name": "ipython",
    "version": 3
   },
   "pygments_lexer": "ipython3",
   "nbconvert_exporter": "python",
   "file_extension": ".py"
  }
 },
 "nbformat": 4,
 "nbformat_minor": 5
}