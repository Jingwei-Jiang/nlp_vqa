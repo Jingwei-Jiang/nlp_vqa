{
 "metadata": {
  "kernelspec": {
   "name": "mindspore-python3.7-aarch64",
   "display_name": "MindSpore-python3.7-aarch64",
   "language": "python"
  },
  "language_info": {
   "name": "python",
   "version": "3.7.6",
   "mimetype": "text/x-python",
   "codemirror_mode": {
    "name": "ipython",
    "version": 3
   },
   "pygments_lexer": "ipython3",
   "nbconvert_exporter": "python",
   "file_extension": ".py"
  }
 },
 "nbformat_minor": 5,
 "nbformat": 4,
 "cells": [
  {
   "cell_type": "code",
   "source": "import moxing as mox\nmox.file.copy_parallel(src_url=\"s3://focus/nlp/data/\", dst_url='../data/')\nmox.file.copy_parallel(src_url=\"s3://focus/nlp/nlp_vqa/\", dst_url='.')",
   "metadata": {
    "pycharm": {
     "name": "#%%\n"
    }
   },
   "execution_count": 1,
   "outputs": [
    {
     "name": "stderr",
     "output_type": "stream",
     "text": "INFO:root:Using MoXing-v2.0.0.rc2.4b57a67b-4b57a67b\nINFO:root:Using OBS-Python-SDK-3.20.9.1\nINFO:root:Listing OBS: 1000\nINFO:root:Listing OBS: 2000\nINFO:root:Listing OBS: 3000\nINFO:root:Listing OBS: 4000\nINFO:root:Listing OBS: 5000\nINFO:root:Listing OBS: 6000\nINFO:root:Listing OBS: 7000\nINFO:root:Listing OBS: 8000\nINFO:root:Listing OBS: 9000\nINFO:root:Listing OBS: 10000\nINFO:root:Listing OBS: 11000\nINFO:root:Listing OBS: 12000\nINFO:root:Listing OBS: 13000\nINFO:root:Listing OBS: 14000\nINFO:root:Listing OBS: 15000\nINFO:root:Listing OBS: 16000\nINFO:root:Listing OBS: 17000\nINFO:root:Listing OBS: 18000\nINFO:root:Listing OBS: 19000\nINFO:root:Listing OBS: 20000\nINFO:root:Listing OBS: 21000\nINFO:root:Listing OBS: 22000\nINFO:root:Listing OBS: 23000\nINFO:root:Listing OBS: 24000\nINFO:root:Listing OBS: 25000\nINFO:root:Listing OBS: 26000\nINFO:root:Listing OBS: 27000\nINFO:root:Listing OBS: 28000\nINFO:root:Listing OBS: 29000\nINFO:root:Listing OBS: 30000\nINFO:root:Listing OBS: 31000\nINFO:root:Listing OBS: 32000\nINFO:root:Listing OBS: 33000\nINFO:root:Listing OBS: 34000\nINFO:root:Listing OBS: 35000\nINFO:root:Listing OBS: 36000\nINFO:root:Listing OBS: 37000\nINFO:root:Listing OBS: 38000\nINFO:root:Listing OBS: 39000\nINFO:root:Listing OBS: 40000\nINFO:root:Listing OBS: 41000\nINFO:root:Listing OBS: 42000\nINFO:root:Listing OBS: 43000\nINFO:root:Listing OBS: 44000\nINFO:root:Listing OBS: 45000\nINFO:root:Listing OBS: 46000\nINFO:root:Listing OBS: 47000\nINFO:root:Listing OBS: 48000\nINFO:root:Listing OBS: 49000\nINFO:root:Listing OBS: 50000\nINFO:root:Listing OBS: 51000\nINFO:root:Listing OBS: 52000\nINFO:root:Listing OBS: 53000\nINFO:root:Listing OBS: 54000\nINFO:root:Listing OBS: 55000\nINFO:root:Listing OBS: 56000\nINFO:root:Listing OBS: 57000\nINFO:root:Listing OBS: 58000\nINFO:root:Listing OBS: 59000\nINFO:root:Listing OBS: 60000\nINFO:root:Listing OBS: 61000\nINFO:root:Listing OBS: 62000\nINFO:root:Listing OBS: 63000\nINFO:root:Listing OBS: 64000\nINFO:root:Listing OBS: 65000\nINFO:root:Listing OBS: 66000\nINFO:root:Listing OBS: 67000\nINFO:root:Listing OBS: 68000\nINFO:root:Listing OBS: 69000\nINFO:root:Listing OBS: 70000\nINFO:root:Listing OBS: 71000\nINFO:root:pid: None.\t1000/71903\nINFO:root:pid: None.\t2000/71903\nINFO:root:pid: None.\t3000/71903\nINFO:root:pid: None.\t4000/71903\nINFO:root:pid: None.\t5000/71903\nINFO:root:pid: None.\t6000/71903\nINFO:root:pid: None.\t7000/71903\nINFO:root:pid: None.\t8000/71903\nINFO:root:pid: None.\t9000/71903\nINFO:root:pid: None.\t10000/71903\nINFO:root:pid: None.\t11000/71903\nINFO:root:pid: None.\t12000/71903\nINFO:root:pid: None.\t13000/71903\nINFO:root:pid: None.\t14000/71903\nINFO:root:pid: None.\t15000/71903\nINFO:root:pid: None.\t16000/71903\nINFO:root:pid: None.\t17000/71903\nINFO:root:pid: None.\t18000/71903\nINFO:root:pid: None.\t19000/71903\nINFO:root:pid: None.\t20000/71903\nINFO:root:pid: None.\t21000/71903\nINFO:root:pid: None.\t22000/71903\nINFO:root:pid: None.\t23000/71903\nINFO:root:pid: None.\t24000/71903\nINFO:root:pid: None.\t25000/71903\nINFO:root:pid: None.\t26000/71903\nINFO:root:pid: None.\t27000/71903\nINFO:root:pid: None.\t28000/71903\nINFO:root:pid: None.\t29000/71903\nINFO:root:pid: None.\t30000/71903\nINFO:root:pid: None.\t31000/71903\nINFO:root:pid: None.\t32000/71903\nINFO:root:pid: None.\t33000/71903\nINFO:root:pid: None.\t34000/71903\nINFO:root:pid: None.\t35000/71903\nINFO:root:pid: None.\t36000/71903\nINFO:root:pid: None.\t37000/71903\nINFO:root:pid: None.\t38000/71903\nINFO:root:pid: None.\t39000/71903\nINFO:root:pid: None.\t40000/71903\nINFO:root:pid: None.\t41000/71903\nINFO:root:pid: None.\t42000/71903\nINFO:root:pid: None.\t43000/71903\nINFO:root:pid: None.\t44000/71903\nINFO:root:pid: None.\t45000/71903\nINFO:root:pid: None.\t46000/71903\nINFO:root:pid: None.\t47000/71903\nINFO:root:pid: None.\t48000/71903\nINFO:root:pid: None.\t49000/71903\nINFO:root:pid: None.\t50000/71903\nINFO:root:pid: None.\t51000/71903\nINFO:root:pid: None.\t52000/71903\nINFO:root:pid: None.\t53000/71903\nINFO:root:pid: None.\t54000/71903\nINFO:root:pid: None.\t55000/71903\nINFO:root:pid: None.\t56000/71903\nINFO:root:pid: None.\t57000/71903\nINFO:root:pid: None.\t58000/71903\nINFO:root:pid: None.\t59000/71903\nINFO:root:pid: None.\t60000/71903\nINFO:root:pid: None.\t61000/71903\nINFO:root:pid: None.\t62000/71903\nINFO:root:pid: None.\t63000/71903\nINFO:root:pid: None.\t64000/71903\nINFO:root:pid: None.\t65000/71903\nINFO:root:pid: None.\t66000/71903\nINFO:root:pid: None.\t67000/71903\nINFO:root:pid: None.\t68000/71903\nINFO:root:pid: None.\t69000/71903\nINFO:root:pid: None.\t70000/71903\nINFO:root:pid: None.\t71000/71903\nINFO:root:Listing OBS: 1000\nINFO:root:Listing OBS: 2000\nINFO:root:Listing OBS: 3000\nINFO:root:Listing OBS: 4000\nINFO:root:Listing OBS: 5000\nINFO:root:Listing OBS: 6000\nINFO:root:Listing OBS: 7000\nINFO:root:Listing OBS: 8000\nINFO:root:Listing OBS: 9000\nINFO:root:Listing OBS: 10000\nINFO:root:Listing OBS: 11000\nINFO:root:Listing OBS: 12000\nINFO:root:Listing OBS: 13000\nINFO:root:pid: None.\t1000/13564\nINFO:root:pid: None.\t2000/13564\nINFO:root:pid: None.\t3000/13564\nINFO:root:pid: None.\t4000/13564\nINFO:root:pid: None.\t5000/13564\nINFO:root:pid: None.\t6000/13564\nINFO:root:pid: None.\t7000/13564\nINFO:root:pid: None.\t8000/13564\nINFO:root:pid: None.\t9000/13564\nINFO:root:pid: None.\t10000/13564\nINFO:root:pid: None.\t11000/13564\nINFO:root:pid: None.\t12000/13564\nINFO:root:pid: None.\t13000/13564\n"
    }
   ]
  },
  {
   "cell_type": "code",
   "source": "!pip install tqdm",
   "metadata": {
    "pycharm": {
     "name": "#%%\n"
    },
    "trusted": true
   },
   "execution_count": 1,
   "outputs": [
    {
     "name": "stdout",
     "text": "Looking in indexes: http://repo.myhuaweicloud.com/repository/pypi/simple\nRequirement already satisfied: tqdm in /home/ma-user/miniconda3/envs/MindSpore-python3.7-aarch64/lib/python3.7/site-packages (4.63.1)\n",
     "output_type": "stream"
    }
   ]
  },
  {
   "cell_type": "code",
   "execution_count": null,
   "outputs": [],
   "source": [
    "import moxing as mox\n",
    "mox.file.copy_parallel(src_url=\"s3://focus/nlp/nlp_vqa/san.py\", dst_url='./san.py')\n",
    "mox.file.copy_parallel(src_url=\"s3://focus/nlp/nlp_vqa/dataset.py\", dst_url='./dataset.py')"
   ],
   "metadata": {
    "collapsed": false,
    "pycharm": {
     "name": "#%%\n"
    }
   }
  },
  {
   "cell_type": "code",
   "execution_count": null,
   "outputs": [],
   "source": [
    "import sys\n",
    "import os.path\n",
    "import mindspore\n",
    "from mindspore import Tensor, nn, Model, context\n",
    "from mindspore import load_checkpoint, load_param_into_net\n",
    "from mindspore import ops\n",
    "from mindspore.ops import functional as F\n",
    "from mindspore.ops import composite as C\n",
    "from mindspore.common.parameter import ParameterTuple\n",
    "from mindspore.train.callback import LossMonitor, CheckpointConfig, ModelCheckpoint, TimeMonitor\n",
    "import numpy as np\n",
    "from tqdm import tqdm\n",
    "import config\n",
    "import dataset\n",
    "import san\n",
    "import utils\n",
    "import mindspore.context as context\n",
    "import json\n",
    "import math\n",
    "from datetime import datetime\n",
    "from bert4ms import models \n",
    "from mindspore.nn import TrainOneStepCell\n",
    "context.set_context(mode=context.PYNATIVE_MODE, device_target='Ascend')"
   ],
   "metadata": {
    "collapsed": false,
    "pycharm": {
     "name": "#%%\n"
    }
   }
  },
  {
   "cell_type": "code",
   "execution_count": null,
   "outputs": [],
   "source": [
    "class WithLossCell(nn.Cell):\n",
    "    def __init__(self, model):\n",
    "        super(WithLossCell, self).__init__(auto_prefix=False)\n",
    "        self.loss = nn.SoftmaxCrossEntropyWithLogits()\n",
    "        self.net = model\n",
    "\n",
    "    def construct(self, q, a, img):\n",
    "        out = self.net(q, img)\n",
    "        loss = self.loss(out, a)\n",
    "        batch_loss = loss.asnumpy().mean()\n",
    "        return batch_loss\n",
    "    \n",
    "\n",
    "class WithAccuracy(nn.Cell):\n",
    "    def __init__(self, model):\n",
    "        super(WithAccuracy, self).__init__(auto_prefix=False)\n",
    "        self.net = model\n",
    "\n",
    "    def construct(self, q, a, img):\n",
    "        out = self.net(q, img)\n",
    "        out = ops.Argmax(output_type=mindspore.int32)(out)\n",
    "        predicted = out.asnumpy()\n",
    "        ans = a.asnumpy()\n",
    "        batch_size = ans.shape[0]\n",
    "        acc = 0\n",
    "        for i in range(batch_size):\n",
    "            if ans[i,predicted[i]]!=0:\n",
    "                acc += 1\n",
    "        accuracy = acc / batch_size\n",
    "        return accuracy, predicted"
   ],
   "metadata": {
    "collapsed": false,
    "pycharm": {
     "name": "#%%\n"
    }
   }
  },
  {
   "cell_type": "code",
   "source": "if __name__ == '__main__':\n\n    val_loader = dataset.get_loader(val=True)\n\n    model = san.SANModel()\n    opt = nn.Adam(params=model.trainable_params())\n    net_with_loss = WithLossCell(model)\n    train_net = TrainOneStepCell(net_with_loss, opt)\n    train_net.set_train(True)\n    \n    eval_net = WithAccuracy(model)\n    eval_net.set_train(False)\n\n    for epoch in range(config.epochs):\n        losses = []\n        accs = []\n        train_loader = dataset.get_loader(train=True)\n        \n        step = 0\n        tq = tqdm(train_loader, desc='{} EPOCH{:02d}'.format('train', epoch), ncols=0, total=math.ceil(len(train_loader.source.questions) / config.batch_size))\n        for q, a, img in tq:\n            loss = train_net(q, a, img)\n            print(\"Epoch:{},Step:{},Loss:{}\".format(epoch,step,loss))\n            losses.append(loss)\n        print(\"Epoch {} done.Train Loss:{}\".format(epoch,np.array(losses).mean()))\n        \n        step = 0\n        tq = tqdm(val_loader, desc='{} EPOCH{:02d}'.format('val', epoch), ncols=0, total=math.ceil(len(val_loader.source.questions) / config.batch_size))\n        for q, a, img in tq:\n            acc,predicted = eval_net(q, a, img)\n            print(\"Epoch:{},Step:{},Accuracy:{},Predicted:{}\".format(epoch,step,acc,predicted))\n            accs.append(acc)\n        print(\"Epoch {} done.Val Accuracy:{}\".format(epoch,np.array(accs).mean()))",
   "metadata": {
    "pycharm": {
     "name": "#%%\n"
    },
    "trusted": true
   },
   "execution_count": 4,
   "outputs": [
    {
     "name": "stderr",
     "text": "INFO:root:The checkpoint file not found, start to download.\n",
     "output_type": "stream"
    },
    {
     "name": "stdout",
     "text": "Generating answers vocab...\nAnswers vocab is generated\n",
     "output_type": "stream"
    },
    {
     "name": "stderr",
     "text": "INFO:root:The checkpoint file not found, start to download.\nINFO:root:The checkpoint file not found, start to download.\n[WARNING] ME(36314:281473397931616,MainProcess):2022-06-26-17:23:16.888.416 [mindspore/train/serialization.py:581] Remove parameter prefix name: bert., continue to load.\nINFO:root:The checkpoint file not found, start to download.\n",
     "output_type": "stream"
    },
    {
     "name": "stdout",
     "text": "Generating answers vocab...\nAnswers vocab is generated\n",
     "output_type": "stream"
    },
    {
     "name": "stderr",
     "text": "train EPOCH00:   0% 1/5768 [03:46<362:33:59, 226.33s/it]",
     "output_type": "stream"
    },
    {
     "name": "stdout",
     "text": "Epoch:0,Step:0,Loss:[97.450195 97.02626  97.34778  98.67023 ]\n",
     "output_type": "stream"
    },
    {
     "name": "stderr",
     "text": "train EPOCH00:   0% 2/5768 [03:50<152:53:00, 95.45s/it] ",
     "output_type": "stream"
    },
    {
     "name": "stdout",
     "text": "Epoch:0,Step:0,Loss:[97.77615 98.16675 99.54673 97.12048]\n",
     "output_type": "stream"
    },
    {
     "name": "stderr",
     "text": "train EPOCH00:   0% 3/5768 [03:53<85:31:26, 53.41s/it] ",
     "output_type": "stream"
    },
    {
     "name": "stdout",
     "text": "Epoch:0,Step:0,Loss:[93.29571  97.771805 93.324265 95.622345]\n",
     "output_type": "stream"
    },
    {
     "name": "stderr",
     "text": "train EPOCH00:   0% 4/5768 [03:56<53:36:15, 33.48s/it]",
     "output_type": "stream"
    },
    {
     "name": "stdout",
     "text": "Epoch:0,Step:0,Loss:[98.63426  80.79289  81.83075  98.424324]\n",
     "output_type": "stream"
    },
    {
     "name": "stderr",
     "text": "train EPOCH00:   0% 5/5768 [03:59<35:57:36, 22.46s/it]",
     "output_type": "stream"
    },
    {
     "name": "stdout",
     "text": "Epoch:0,Step:0,Loss:[74.93622  99.79245  95.637695 98.48206 ]\n",
     "output_type": "stream"
    },
    {
     "name": "stderr",
     "text": "train EPOCH00:   0% 6/5768 [04:02<25:19:27, 15.82s/it]",
     "output_type": "stream"
    },
    {
     "name": "stdout",
     "text": "Epoch:0,Step:0,Loss:[50.042576 90.97513  91.70062  64.72789 ]\n",
     "output_type": "stream"
    },
    {
     "name": "stderr",
     "text": "train EPOCH00:   0% 7/5768 [04:05<18:34:47, 11.61s/it]",
     "output_type": "stream"
    },
    {
     "name": "stdout",
     "text": "Epoch:0,Step:0,Loss:[ 96.58462 101.00371 105.91217  37.68303]\n",
     "output_type": "stream"
    },
    {
     "name": "stderr",
     "text": "train EPOCH00:   0% 8/5768 [04:08<14:09:19,  8.85s/it]",
     "output_type": "stream"
    },
    {
     "name": "stdout",
     "text": "Epoch:0,Step:0,Loss:[111.284904 116.38133  113.394516 123.945755]\n",
     "output_type": "stream"
    },
    {
     "name": "stderr",
     "text": "train EPOCH00:   0% 9/5768 [04:11<11:11:47,  7.00s/it]",
     "output_type": "stream"
    },
    {
     "name": "stdout",
     "text": "Epoch:0,Step:0,Loss:[96.70036 78.40854 89.88023 96.56736]\n",
     "output_type": "stream"
    },
    {
     "name": "stderr",
     "text": "train EPOCH00:   0% 10/5768 [04:14<9:11:38,  5.75s/it]",
     "output_type": "stream"
    },
    {
     "name": "stdout",
     "text": "Epoch:0,Step:0,Loss:[102.41955  93.02584  88.59611 101.71566]\n",
     "output_type": "stream"
    },
    {
     "name": "stderr",
     "text": "train EPOCH00:   0% 11/5768 [04:17<7:49:11,  4.89s/it]",
     "output_type": "stream"
    },
    {
     "name": "stdout",
     "text": "Epoch:0,Step:0,Loss:[92.84122 98.82712 97.30946 98.60364]\n",
     "output_type": "stream"
    },
    {
     "name": "stderr",
     "text": "train EPOCH00:   0% 12/5768 [04:19<6:52:04,  4.30s/it]",
     "output_type": "stream"
    },
    {
     "name": "stdout",
     "text": "Epoch:0,Step:0,Loss:[ 97.14069  84.35497 120.01266  98.403  ]\n",
     "output_type": "stream"
    },
    {
     "name": "stderr",
     "text": "train EPOCH00:   0% 13/5768 [04:22<6:12:35,  3.88s/it]",
     "output_type": "stream"
    },
    {
     "name": "stdout",
     "text": "Epoch:0,Step:0,Loss:[101.32994 125.572    97.32552  97.77147]\n",
     "output_type": "stream"
    },
    {
     "name": "stderr",
     "text": "train EPOCH00:   0% 14/5768 [04:25<5:44:55,  3.60s/it]",
     "output_type": "stream"
    },
    {
     "name": "stdout",
     "text": "Epoch:0,Step:0,Loss:[ 98.953995  97.30136  123.44699   92.09496 ]\n",
     "output_type": "stream"
    },
    {
     "name": "stderr",
     "text": "train EPOCH00:   0% 15/5768 [04:28<5:25:50,  3.40s/it]",
     "output_type": "stream"
    },
    {
     "name": "stdout",
     "text": "Epoch:0,Step:0,Loss:[120.258316 136.37112  111.96608  118.68294 ]\n",
     "output_type": "stream"
    },
    {
     "name": "stderr",
     "text": "train EPOCH00:   0% 16/5768 [04:31<5:12:41,  3.26s/it]",
     "output_type": "stream"
    },
    {
     "name": "stdout",
     "text": "Epoch:0,Step:0,Loss:[ 96.94072  110.65773   98.921646 109.60002 ]\n",
     "output_type": "stream"
    },
    {
     "name": "stderr",
     "text": "train EPOCH00:   0% 17/5768 [04:34<5:03:32,  3.17s/it]",
     "output_type": "stream"
    },
    {
     "name": "stdout",
     "text": "Epoch:0,Step:0,Loss:[ 92.274506 124.59782  100.04434  122.137695]\n",
     "output_type": "stream"
    },
    {
     "name": "stderr",
     "text": "train EPOCH00:   0% 18/5768 [04:37<4:56:56,  3.10s/it]",
     "output_type": "stream"
    },
    {
     "name": "stdout",
     "text": "Epoch:0,Step:0,Loss:[113.35492  113.35574   97.64942  110.589836]\n",
     "output_type": "stream"
    },
    {
     "name": "stderr",
     "text": "train EPOCH00:   0% 19/5768 [04:40<4:52:14,  3.05s/it]",
     "output_type": "stream"
    },
    {
     "name": "stdout",
     "text": "Epoch:0,Step:0,Loss:[139.60292  139.59857   94.27598  120.448524]\n",
     "output_type": "stream"
    },
    {
     "name": "stderr",
     "text": "train EPOCH00:   0% 20/5768 [04:43<4:48:59,  3.02s/it]",
     "output_type": "stream"
    },
    {
     "name": "stdout",
     "text": "Epoch:0,Step:0,Loss:[98.45299 54.65198 98.36572 51.39277]\n",
     "output_type": "stream"
    },
    {
     "name": "stderr",
     "text": "train EPOCH00:   0% 21/5768 [04:46<4:46:45,  2.99s/it]",
     "output_type": "stream"
    },
    {
     "name": "stdout",
     "text": "Epoch:0,Step:0,Loss:[74.19397  33.432243 99.243675 81.31973 ]\n",
     "output_type": "stream"
    },
    {
     "name": "stderr",
     "text": "train EPOCH00:   0% 22/5768 [04:49<4:45:15,  2.98s/it]",
     "output_type": "stream"
    },
    {
     "name": "stdout",
     "text": "Epoch:0,Step:0,Loss:[ 46.096146  42.87726   39.658127 104.61026 ]\n",
     "output_type": "stream"
    },
    {
     "name": "stderr",
     "text": "train EPOCH00:   0% 23/5768 [04:52<4:44:02,  2.97s/it]",
     "output_type": "stream"
    },
    {
     "name": "stdout",
     "text": "Epoch:0,Step:0,Loss:[26.780148 83.818695 99.96116  98.43297 ]\n",
     "output_type": "stream"
    },
    {
     "name": "stderr",
     "text": "train EPOCH00:   0% 24/5768 [04:55<4:43:18,  2.96s/it]",
     "output_type": "stream"
    },
    {
     "name": "stdout",
     "text": "Epoch:0,Step:0,Loss:[ 13.610607  60.80834  100.1393    98.44573 ]\n",
     "output_type": "stream"
    },
    {
     "name": "stderr",
     "text": "train EPOCH00:   0% 25/5768 [04:58<4:42:41,  2.95s/it]",
     "output_type": "stream"
    },
    {
     "name": "stdout",
     "text": "Epoch:0,Step:0,Loss:[89.77749  20.780758 49.73987  96.54641 ]\n",
     "output_type": "stream"
    },
    {
     "name": "stderr",
     "text": "train EPOCH00:   0% 26/5768 [05:01<4:42:13,  2.95s/it]",
     "output_type": "stream"
    },
    {
     "name": "stdout",
     "text": "Epoch:0,Step:0,Loss:[102.58017  102.464554   9.205835 104.52661 ]\n",
     "output_type": "stream"
    },
    {
     "name": "stderr",
     "text": "train EPOCH00:   0% 27/5768 [05:04<4:41:52,  2.95s/it]",
     "output_type": "stream"
    },
    {
     "name": "stdout",
     "text": "Epoch:0,Step:0,Loss:[104.28545  103.054     55.131714  49.55407 ]\n",
     "output_type": "stream"
    },
    {
     "name": "stderr",
     "text": "train EPOCH00:   0% 28/5768 [05:07<4:41:52,  2.95s/it]",
     "output_type": "stream"
    },
    {
     "name": "stdout",
     "text": "Epoch:0,Step:0,Loss:[11.217322 82.9944   44.569725 11.217554]\n",
     "output_type": "stream"
    },
    {
     "name": "stderr",
     "text": "train EPOCH00:   1% 29/5768 [05:09<4:41:35,  2.94s/it]",
     "output_type": "stream"
    },
    {
     "name": "stdout",
     "text": "Epoch:0,Step:0,Loss:[  7.620449 102.96671   85.687325  36.72785 ]\n",
     "output_type": "stream"
    },
    {
     "name": "stderr",
     "text": "train EPOCH00:   1% 30/5768 [05:12<4:41:21,  2.94s/it]",
     "output_type": "stream"
    },
    {
     "name": "stdout",
     "text": "Epoch:0,Step:0,Loss:[111.601395 110.42694   46.33969  110.41537 ]\n",
     "output_type": "stream"
    },
    {
     "name": "stderr",
     "text": "train EPOCH00:   1% 31/5768 [05:15<4:41:08,  2.94s/it]",
     "output_type": "stream"
    },
    {
     "name": "stdout",
     "text": "Epoch:0,Step:0,Loss:[ 43.533043 109.450645  87.752686 100.64869 ]\n",
     "output_type": "stream"
    },
    {
     "name": "stderr",
     "text": "train EPOCH00:   1% 32/5768 [05:18<4:41:04,  2.94s/it]",
     "output_type": "stream"
    },
    {
     "name": "stdout",
     "text": "Epoch:0,Step:0,Loss:[90.86053 17.81926 76.54001 36.03267]\n",
     "output_type": "stream"
    },
    {
     "name": "stderr",
     "text": "train EPOCH00:   1% 33/5768 [05:21<4:40:43,  2.94s/it]",
     "output_type": "stream"
    },
    {
     "name": "stdout",
     "text": "Epoch:0,Step:0,Loss:[  2.7265353 113.354454   88.28685   108.743706 ]\n",
     "output_type": "stream"
    },
    {
     "name": "stderr",
     "text": "train EPOCH00:   1% 34/5768 [05:24<4:40:37,  2.94s/it]",
     "output_type": "stream"
    },
    {
     "name": "stdout",
     "text": "Epoch:0,Step:0,Loss:[120.093      5.35164    2.306126 116.04294 ]\n",
     "output_type": "stream"
    },
    {
     "name": "stderr",
     "text": "train EPOCH00:   1% 35/5768 [05:27<4:40:44,  2.94s/it]",
     "output_type": "stream"
    },
    {
     "name": "stdout",
     "text": "Epoch:0,Step:0,Loss:[108.37364     4.75818    50.002853    1.7739048]\n",
     "output_type": "stream"
    },
    {
     "name": "stderr",
     "text": "train EPOCH00:   1% 36/5768 [05:30<4:40:46,  2.94s/it]",
     "output_type": "stream"
    },
    {
     "name": "stdout",
     "text": "Epoch:0,Step:0,Loss:[ 80.47124   19.435843 130.91075  114.76219 ]\n",
     "output_type": "stream"
    },
    {
     "name": "stderr",
     "text": "train EPOCH00:   1% 37/5768 [05:33<4:40:34,  2.94s/it]",
     "output_type": "stream"
    },
    {
     "name": "stdout",
     "text": "Epoch:0,Step:0,Loss:[130.8052       0.98332036 132.02264    135.13472   ]\n",
     "output_type": "stream"
    },
    {
     "name": "stderr",
     "text": "train EPOCH00:   1% 38/5768 [05:36<4:40:28,  2.94s/it]",
     "output_type": "stream"
    },
    {
     "name": "stdout",
     "text": "Epoch:0,Step:0,Loss:[136.62372     95.25513    110.361885     0.92415625]\n",
     "output_type": "stream"
    },
    {
     "name": "stderr",
     "text": "train EPOCH00:   1% 39/5768 [05:39<4:40:30,  2.94s/it]",
     "output_type": "stream"
    },
    {
     "name": "stdout",
     "text": "Epoch:0,Step:0,Loss:[  0.86399066 135.02805      0.8639917  139.07028   ]\n",
     "output_type": "stream"
    },
    {
     "name": "stderr",
     "text": "train EPOCH00:   1% 40/5768 [05:42<4:40:25,  2.94s/it]",
     "output_type": "stream"
    },
    {
     "name": "stdout",
     "text": "Epoch:0,Step:0,Loss:[  3.8109698 125.442154  111.58972   124.73244  ]\n",
     "output_type": "stream"
    },
    {
     "name": "stderr",
     "text": "train EPOCH00:   1% 41/5768 [05:45<4:40:36,  2.94s/it]",
     "output_type": "stream"
    },
    {
     "name": "stdout",
     "text": "Epoch:0,Step:0,Loss:[ 14.9151325  19.751036   92.309845  151.22571  ]\n",
     "output_type": "stream"
    },
    {
     "name": "stderr",
     "text": "train EPOCH00:   1% 42/5768 [05:48<4:40:14,  2.94s/it]",
     "output_type": "stream"
    },
    {
     "name": "stdout",
     "text": "Epoch:0,Step:0,Loss:[ 39.6019  100.73231 151.82222 109.20973]\n",
     "output_type": "stream"
    },
    {
     "name": "stderr",
     "text": "train EPOCH00:   1% 43/5768 [05:51<4:40:15,  2.94s/it]",
     "output_type": "stream"
    },
    {
     "name": "stdout",
     "text": "Epoch:0,Step:0,Loss:[154.4751  120.27792 149.51892  87.52315]\n",
     "output_type": "stream"
    },
    {
     "name": "stderr",
     "text": "train EPOCH00:   1% 44/5768 [05:54<4:40:16,  2.94s/it]",
     "output_type": "stream"
    },
    {
     "name": "stdout",
     "text": "Epoch:0,Step:0,Loss:[ 92.15912    132.53424     96.93612      0.51290613]\n",
     "output_type": "stream"
    },
    {
     "name": "stderr",
     "text": "train EPOCH00:   1% 45/5768 [05:56<4:40:03,  2.94s/it]",
     "output_type": "stream"
    },
    {
     "name": "stdout",
     "text": "Epoch:0,Step:0,Loss:[  7.500952  29.657736 153.13864   28.71052 ]\n",
     "output_type": "stream"
    },
    {
     "name": "stderr",
     "text": "train EPOCH00:   1% 46/5768 [05:59<4:40:04,  2.94s/it]",
     "output_type": "stream"
    },
    {
     "name": "stdout",
     "text": "Epoch:0,Step:0,Loss:[ 98.561584 119.834305 153.67433   37.408394]\n",
     "output_type": "stream"
    },
    {
     "name": "stderr",
     "text": "train EPOCH00:   1% 47/5768 [06:02<4:39:50,  2.93s/it]",
     "output_type": "stream"
    },
    {
     "name": "stdout",
     "text": "Epoch:0,Step:0,Loss:[167.74916 119.56413 139.35754 125.28103]\n",
     "output_type": "stream"
    },
    {
     "name": "stderr",
     "text": "train EPOCH00:   1% 48/5768 [06:05<4:41:12,  2.95s/it]",
     "output_type": "stream"
    },
    {
     "name": "stdout",
     "text": "Epoch:0,Step:0,Loss:[107.084335 138.23923  166.90678  163.59828 ]\n",
     "output_type": "stream"
    },
    {
     "name": "stderr",
     "text": "train EPOCH00:   1% 49/5768 [06:08<4:41:01,  2.95s/it]",
     "output_type": "stream"
    },
    {
     "name": "stdout",
     "text": "Epoch:0,Step:0,Loss:[149.76297    0.39166   34.614197 116.81195 ]\n",
     "output_type": "stream"
    },
    {
     "name": "stderr",
     "text": "train EPOCH00:   1% 50/5768 [06:11<4:40:31,  2.94s/it]",
     "output_type": "stream"
    },
    {
     "name": "stdout",
     "text": "Epoch:0,Step:0,Loss:[170.99326 168.80865 121.60611 168.29892]\n",
     "output_type": "stream"
    },
    {
     "name": "stderr",
     "text": "train EPOCH00:   1% 51/5768 [06:14<4:40:13,  2.94s/it]",
     "output_type": "stream"
    },
    {
     "name": "stdout",
     "text": "Epoch:0,Step:0,Loss:[169.47067 112.84685 161.41504 113.11336]\n",
     "output_type": "stream"
    },
    {
     "name": "stderr",
     "text": "train EPOCH00:   1% 52/5768 [06:17<4:40:16,  2.94s/it]",
     "output_type": "stream"
    },
    {
     "name": "stdout",
     "text": "Epoch:0,Step:0,Loss:[ 17.01269   162.5252     24.276308    0.8641776]\n",
     "output_type": "stream"
    },
    {
     "name": "stderr",
     "text": "train EPOCH00:   1% 53/5768 [06:20<4:40:02,  2.94s/it]",
     "output_type": "stream"
    },
    {
     "name": "stdout",
     "text": "Epoch:0,Step:0,Loss:[162.03568  120.36132   13.197729  25.405823]\n",
     "output_type": "stream"
    },
    {
     "name": "stderr",
     "text": "train EPOCH00:   1% 54/5768 [06:23<4:40:32,  2.95s/it]",
     "output_type": "stream"
    },
    {
     "name": "stdout",
     "text": "Epoch:0,Step:0,Loss:[114.71871     1.0977056 163.4091    166.0149   ]\n",
     "output_type": "stream"
    },
    {
     "name": "stderr",
     "text": "train EPOCH00:   1% 55/5768 [06:26<4:40:05,  2.94s/it]",
     "output_type": "stream"
    },
    {
     "name": "stdout",
     "text": "Epoch:0,Step:0,Loss:[167.84302  171.92126   20.933409  17.727144]\n",
     "output_type": "stream"
    },
    {
     "name": "stderr",
     "text": "train EPOCH00:   1% 56/5768 [06:29<4:40:09,  2.94s/it]",
     "output_type": "stream"
    },
    {
     "name": "stdout",
     "text": "Epoch:0,Step:0,Loss:[150.31485   163.39401   145.2357      1.3355241]\n",
     "output_type": "stream"
    },
    {
     "name": "stderr",
     "text": "train EPOCH00:   1% 57/5768 [06:32<4:40:03,  2.94s/it]",
     "output_type": "stream"
    },
    {
     "name": "stdout",
     "text": "Epoch:0,Step:0,Loss:[  1.5441434   1.5441424 154.0408    135.1217   ]\n",
     "output_type": "stream"
    },
    {
     "name": "stderr",
     "text": "train EPOCH00:   1% 58/5768 [06:35<4:39:59,  2.94s/it]",
     "output_type": "stream"
    },
    {
     "name": "stdout",
     "text": "Epoch:0,Step:0,Loss:[170.58322 147.49857 170.30606 159.50014]\n",
     "output_type": "stream"
    },
    {
     "name": "stderr",
     "text": "train EPOCH00:   1% 59/5768 [06:38<4:39:56,  2.94s/it]",
     "output_type": "stream"
    },
    {
     "name": "stdout",
     "text": "Epoch:0,Step:0,Loss:[ 19.960945 166.55072  127.715775  19.960945]\n",
     "output_type": "stream"
    },
    {
     "name": "stderr",
     "text": "train EPOCH00:   1% 60/5768 [06:41<4:39:58,  2.94s/it]",
     "output_type": "stream"
    },
    {
     "name": "stdout",
     "text": "Epoch:0,Step:0,Loss:[95.35625    3.6861606 17.20628   11.197338 ]\n",
     "output_type": "stream"
    },
    {
     "name": "stderr",
     "text": "train EPOCH00:   1% 61/5768 [06:44<4:39:54,  2.94s/it]",
     "output_type": "stream"
    },
    {
     "name": "stdout",
     "text": "Epoch:0,Step:0,Loss:[167.71654 168.46545 167.88138 164.0509 ]\n",
     "output_type": "stream"
    },
    {
     "name": "stderr",
     "text": "train EPOCH00:   1% 62/5768 [06:46<4:39:45,  2.94s/it]",
     "output_type": "stream"
    },
    {
     "name": "stdout",
     "text": "Epoch:0,Step:0,Loss:[135.71338   13.946379   2.994258  13.946379]\n",
     "output_type": "stream"
    },
    {
     "name": "stderr",
     "text": "train EPOCH00:   1% 63/5768 [06:49<4:39:35,  2.94s/it]",
     "output_type": "stream"
    },
    {
     "name": "stdout",
     "text": "Epoch:0,Step:0,Loss:[110.35972   74.311554 143.82433  168.46655 ]\n",
     "output_type": "stream"
    },
    {
     "name": "stderr",
     "text": "train EPOCH00:   1% 64/5768 [06:52<4:39:47,  2.94s/it]",
     "output_type": "stream"
    },
    {
     "name": "stdout",
     "text": "Epoch:0,Step:0,Loss:[159.1508     9.762053 173.536      4.485507]\n",
     "output_type": "stream"
    },
    {
     "name": "stderr",
     "text": "train EPOCH00:   1% 65/5768 [06:55<4:39:53,  2.94s/it]",
     "output_type": "stream"
    },
    {
     "name": "stdout",
     "text": "Epoch:0,Step:0,Loss:[178.75864     5.348634    5.348634    7.4945893]\n",
     "output_type": "stream"
    },
    {
     "name": "stderr",
     "text": "train EPOCH00:   1% 66/5768 [06:58<4:39:35,  2.94s/it]",
     "output_type": "stream"
    },
    {
     "name": "stdout",
     "text": "Epoch:0,Step:0,Loss:[  6.0771713   5.3911686 102.749855  175.99846  ]\n",
     "output_type": "stream"
    },
    {
     "name": "stderr",
     "text": "train EPOCH00:   1% 67/5768 [07:01<4:39:32,  2.94s/it]",
     "output_type": "stream"
    },
    {
     "name": "stdout",
     "text": "Epoch:0,Step:0,Loss:[192.78903   20.781475 108.948616  82.90264 ]\n",
     "output_type": "stream"
    },
    {
     "name": "stderr",
     "text": "train EPOCH00:   1% 68/5768 [07:04<4:39:18,  2.94s/it]",
     "output_type": "stream"
    },
    {
     "name": "stdout",
     "text": "Epoch:0,Step:0,Loss:[  4.6773634 117.79277   142.59293   190.34424  ]\n",
     "output_type": "stream"
    },
    {
     "name": "stderr",
     "text": "train EPOCH00:   1% 69/5768 [07:07<4:39:08,  2.94s/it]",
     "output_type": "stream"
    },
    {
     "name": "stdout",
     "text": "Epoch:0,Step:0,Loss:[  4.2967668  10.5432    159.00307     9.918557 ]\n",
     "output_type": "stream"
    },
    {
     "name": "stderr",
     "text": "train EPOCH00:   1% 70/5768 [07:10<4:39:08,  2.94s/it]",
     "output_type": "stream"
    },
    {
     "name": "stdout",
     "text": "Epoch:0,Step:0,Loss:[219.32013    7.463419 213.65404    4.191267]\n",
     "output_type": "stream"
    },
    {
     "name": "stderr",
     "text": "train EPOCH00:   1% 71/5768 [07:13<4:38:59,  2.94s/it]",
     "output_type": "stream"
    },
    {
     "name": "stdout",
     "text": "Epoch:0,Step:0,Loss:[224.44504    11.204501    6.853778    4.6784163]\n",
     "output_type": "stream"
    },
    {
     "name": "stderr",
     "text": "train EPOCH00:   1% 72/5768 [07:16<4:38:41,  2.94s/it]",
     "output_type": "stream"
    },
    {
     "name": "stdout",
     "text": "Epoch:0,Step:0,Loss:[232.34811   229.8594      4.5846653  29.568674 ]\n",
     "output_type": "stream"
    },
    {
     "name": "stderr",
     "text": "train EPOCH00:   1% 72/5768 [07:19<9:39:31,  6.10s/it]\n",
     "output_type": "stream"
    },
    {
     "traceback": [
      "\u001B[0;31m---------------------------------------------------------------------------\u001B[0m",
      "\u001B[0;31mKeyboardInterrupt\u001B[0m                         Traceback (most recent call last)",
      "\u001B[0;32m<ipython-input-4-db49d22cfe9d>\u001B[0m in \u001B[0;36m<module>\u001B[0;34m\u001B[0m\n\u001B[1;32m     21\u001B[0m         \u001B[0;32mfor\u001B[0m \u001B[0mq\u001B[0m\u001B[0;34m,\u001B[0m \u001B[0ma\u001B[0m\u001B[0;34m,\u001B[0m \u001B[0mimg\u001B[0m \u001B[0;32min\u001B[0m \u001B[0mtq\u001B[0m\u001B[0;34m:\u001B[0m\u001B[0;34m\u001B[0m\u001B[0;34m\u001B[0m\u001B[0m\n\u001B[1;32m     22\u001B[0m             \u001B[0mloss\u001B[0m \u001B[0;34m=\u001B[0m \u001B[0mtrain_net\u001B[0m\u001B[0;34m(\u001B[0m\u001B[0mq\u001B[0m\u001B[0;34m,\u001B[0m \u001B[0ma\u001B[0m\u001B[0;34m,\u001B[0m \u001B[0mimg\u001B[0m\u001B[0;34m)\u001B[0m\u001B[0;34m\u001B[0m\u001B[0;34m\u001B[0m\u001B[0m\n\u001B[0;32m---> 23\u001B[0;31m             \u001B[0mprint\u001B[0m\u001B[0;34m(\u001B[0m\u001B[0;34m\"Epoch:{},Step:{},Loss:{}\"\u001B[0m\u001B[0;34m.\u001B[0m\u001B[0mformat\u001B[0m\u001B[0;34m(\u001B[0m\u001B[0mepoch\u001B[0m\u001B[0;34m,\u001B[0m\u001B[0mstep\u001B[0m\u001B[0;34m,\u001B[0m\u001B[0mloss\u001B[0m\u001B[0;34m)\u001B[0m\u001B[0;34m)\u001B[0m\u001B[0;34m\u001B[0m\u001B[0;34m\u001B[0m\u001B[0m\n\u001B[0m\u001B[1;32m     24\u001B[0m             \u001B[0mlosses\u001B[0m\u001B[0;34m.\u001B[0m\u001B[0mappend\u001B[0m\u001B[0;34m(\u001B[0m\u001B[0mloss\u001B[0m\u001B[0;34m)\u001B[0m\u001B[0;34m\u001B[0m\u001B[0;34m\u001B[0m\u001B[0m\n\u001B[1;32m     25\u001B[0m         \u001B[0mprint\u001B[0m\u001B[0;34m(\u001B[0m\u001B[0;34m\"Epoch {} done.Train Loss:{}\"\u001B[0m\u001B[0;34m.\u001B[0m\u001B[0mformat\u001B[0m\u001B[0;34m(\u001B[0m\u001B[0mepoch\u001B[0m\u001B[0;34m,\u001B[0m\u001B[0mnp\u001B[0m\u001B[0;34m.\u001B[0m\u001B[0marray\u001B[0m\u001B[0;34m(\u001B[0m\u001B[0mlosses\u001B[0m\u001B[0;34m)\u001B[0m\u001B[0;34m.\u001B[0m\u001B[0mmean\u001B[0m\u001B[0;34m(\u001B[0m\u001B[0;34m)\u001B[0m\u001B[0;34m)\u001B[0m\u001B[0;34m)\u001B[0m\u001B[0;34m\u001B[0m\u001B[0;34m\u001B[0m\u001B[0m\n",
      "\u001B[0;32m~/miniconda3/envs/MindSpore-python3.7-aarch64/lib/python3.7/site-packages/mindspore/common/tensor.py\u001B[0m in \u001B[0;36m__str__\u001B[0;34m(self)\u001B[0m\n\u001B[1;32m    269\u001B[0m         \u001B[0;32mif\u001B[0m \u001B[0mself\u001B[0m\u001B[0;34m.\u001B[0m\u001B[0mdtype\u001B[0m \u001B[0;34m==\u001B[0m \u001B[0mmstype\u001B[0m\u001B[0;34m.\u001B[0m\u001B[0mtype_none\u001B[0m\u001B[0;34m:\u001B[0m\u001B[0;34m\u001B[0m\u001B[0;34m\u001B[0m\u001B[0m\n\u001B[1;32m    270\u001B[0m             \u001B[0;32mreturn\u001B[0m \u001B[0;34m\"Unknown Tensor type!\"\u001B[0m\u001B[0;34m\u001B[0m\u001B[0;34m\u001B[0m\u001B[0m\n\u001B[0;32m--> 271\u001B[0;31m         \u001B[0;32mreturn\u001B[0m \u001B[0mstr\u001B[0m\u001B[0;34m(\u001B[0m\u001B[0mself\u001B[0m\u001B[0;34m.\u001B[0m\u001B[0masnumpy\u001B[0m\u001B[0;34m(\u001B[0m\u001B[0;34m)\u001B[0m\u001B[0;34m)\u001B[0m\u001B[0;34m\u001B[0m\u001B[0;34m\u001B[0m\u001B[0m\n\u001B[0m\u001B[1;32m    272\u001B[0m \u001B[0;34m\u001B[0m\u001B[0m\n\u001B[1;32m    273\u001B[0m     \u001B[0;34m@\u001B[0m\u001B[0mproperty\u001B[0m\u001B[0;34m\u001B[0m\u001B[0;34m\u001B[0m\u001B[0m\n",
      "\u001B[0;32m~/miniconda3/envs/MindSpore-python3.7-aarch64/lib/python3.7/site-packages/mindspore/common/tensor.py\u001B[0m in \u001B[0;36masnumpy\u001B[0;34m(self)\u001B[0m\n\u001B[1;32m    412\u001B[0m         \u001B[0;34m\"\"\"Convert tensor to numpy array.\"\"\"\u001B[0m\u001B[0;34m\u001B[0m\u001B[0;34m\u001B[0m\u001B[0m\n\u001B[1;32m    413\u001B[0m         \u001B[0mself\u001B[0m\u001B[0;34m.\u001B[0m\u001B[0minit_check\u001B[0m\u001B[0;34m(\u001B[0m\u001B[0;34m)\u001B[0m\u001B[0;34m\u001B[0m\u001B[0;34m\u001B[0m\u001B[0m\n\u001B[0;32m--> 414\u001B[0;31m         \u001B[0;32mreturn\u001B[0m \u001B[0mTensor_\u001B[0m\u001B[0;34m.\u001B[0m\u001B[0masnumpy\u001B[0m\u001B[0;34m(\u001B[0m\u001B[0mself\u001B[0m\u001B[0;34m)\u001B[0m\u001B[0;34m\u001B[0m\u001B[0;34m\u001B[0m\u001B[0m\n\u001B[0m\u001B[1;32m    415\u001B[0m \u001B[0;34m\u001B[0m\u001B[0m\n\u001B[1;32m    416\u001B[0m     \u001B[0;32mdef\u001B[0m \u001B[0mflush_from_cache\u001B[0m\u001B[0;34m(\u001B[0m\u001B[0mself\u001B[0m\u001B[0;34m)\u001B[0m\u001B[0;34m:\u001B[0m\u001B[0;34m\u001B[0m\u001B[0;34m\u001B[0m\u001B[0m\n",
      "\u001B[0;32m~/miniconda3/envs/MindSpore-python3.7-aarch64/lib/python3.7/site-packages/numpy/core/_internal.py\u001B[0m in \u001B[0;36m_dtype_from_pep3118\u001B[0;34m(spec)\u001B[0m\n\u001B[1;32m    561\u001B[0m \u001B[0;34m\u001B[0m\u001B[0m\n\u001B[1;32m    562\u001B[0m \u001B[0;34m\u001B[0m\u001B[0m\n\u001B[0;32m--> 563\u001B[0;31m \u001B[0;32mdef\u001B[0m \u001B[0m_dtype_from_pep3118\u001B[0m\u001B[0;34m(\u001B[0m\u001B[0mspec\u001B[0m\u001B[0;34m)\u001B[0m\u001B[0;34m:\u001B[0m\u001B[0;34m\u001B[0m\u001B[0;34m\u001B[0m\u001B[0m\n\u001B[0m\u001B[1;32m    564\u001B[0m     \u001B[0mstream\u001B[0m \u001B[0;34m=\u001B[0m \u001B[0m_Stream\u001B[0m\u001B[0;34m(\u001B[0m\u001B[0mspec\u001B[0m\u001B[0;34m)\u001B[0m\u001B[0;34m\u001B[0m\u001B[0;34m\u001B[0m\u001B[0m\n\u001B[1;32m    565\u001B[0m     \u001B[0mdtype\u001B[0m\u001B[0;34m,\u001B[0m \u001B[0malign\u001B[0m \u001B[0;34m=\u001B[0m \u001B[0m__dtype_from_pep3118\u001B[0m\u001B[0;34m(\u001B[0m\u001B[0mstream\u001B[0m\u001B[0;34m,\u001B[0m \u001B[0mis_subdtype\u001B[0m\u001B[0;34m=\u001B[0m\u001B[0;32mFalse\u001B[0m\u001B[0;34m)\u001B[0m\u001B[0;34m\u001B[0m\u001B[0;34m\u001B[0m\u001B[0m\n",
      "\u001B[0;31mKeyboardInterrupt\u001B[0m: "
     ],
     "ename": "KeyboardInterrupt",
     "evalue": "",
     "output_type": "error"
    }
   ]
  },
  {
   "cell_type": "code",
   "source": "",
   "metadata": {},
   "execution_count": null,
   "outputs": []
  }
 ]
}