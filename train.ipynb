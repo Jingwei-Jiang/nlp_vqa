{
 "metadata": {
  "kernelspec": {
   "name": "mindspore-python3.7-aarch64",
   "display_name": "MindSpore-python3.7-aarch64",
   "language": "python"
  },
  "language_info": {
   "name": "python",
   "version": "3.7.6",
   "mimetype": "text/x-python",
   "codemirror_mode": {
    "name": "ipython",
    "version": 3
   },
   "pygments_lexer": "ipython3",
   "nbconvert_exporter": "python",
   "file_extension": ".py"
  }
 },
 "nbformat_minor": 5,
 "nbformat": 4,
 "cells": [
  {
   "cell_type": "code",
   "source": "import moxing as mox\nmox.file.copy_parallel(src_url=\"s3://focus/nlp/data/\", dst_url='../data/')\nmox.file.copy_parallel(src_url=\"s3://focus/nlp/nlp_vqa/\", dst_url='.')",
   "metadata": {
    "pycharm": {
     "name": "#%%\n"
    }
   },
   "execution_count": 1,
   "outputs": [
    {
     "name": "stderr",
     "output_type": "stream",
     "text": "INFO:root:Using MoXing-v2.0.0.rc2.4b57a67b-4b57a67b\nINFO:root:Using OBS-Python-SDK-3.20.9.1\nINFO:root:Listing OBS: 1000\nINFO:root:Listing OBS: 2000\nINFO:root:Listing OBS: 3000\nINFO:root:Listing OBS: 4000\nINFO:root:Listing OBS: 5000\nINFO:root:Listing OBS: 6000\nINFO:root:Listing OBS: 7000\nINFO:root:Listing OBS: 8000\nINFO:root:Listing OBS: 9000\nINFO:root:Listing OBS: 10000\nINFO:root:Listing OBS: 11000\nINFO:root:Listing OBS: 12000\nINFO:root:Listing OBS: 13000\nINFO:root:Listing OBS: 14000\nINFO:root:Listing OBS: 15000\nINFO:root:Listing OBS: 16000\nINFO:root:Listing OBS: 17000\nINFO:root:Listing OBS: 18000\nINFO:root:Listing OBS: 19000\nINFO:root:Listing OBS: 20000\nINFO:root:Listing OBS: 21000\nINFO:root:Listing OBS: 22000\nINFO:root:Listing OBS: 23000\nINFO:root:Listing OBS: 24000\nINFO:root:Listing OBS: 25000\nINFO:root:Listing OBS: 26000\nINFO:root:Listing OBS: 27000\nINFO:root:Listing OBS: 28000\nINFO:root:Listing OBS: 29000\nINFO:root:Listing OBS: 30000\nINFO:root:Listing OBS: 31000\nINFO:root:Listing OBS: 32000\nINFO:root:Listing OBS: 33000\nINFO:root:Listing OBS: 34000\nINFO:root:Listing OBS: 35000\nINFO:root:Listing OBS: 36000\nINFO:root:Listing OBS: 37000\nINFO:root:Listing OBS: 38000\nINFO:root:Listing OBS: 39000\nINFO:root:Listing OBS: 40000\nINFO:root:Listing OBS: 41000\nINFO:root:Listing OBS: 42000\nINFO:root:Listing OBS: 43000\nINFO:root:Listing OBS: 44000\nINFO:root:Listing OBS: 45000\nINFO:root:Listing OBS: 46000\nINFO:root:Listing OBS: 47000\nINFO:root:Listing OBS: 48000\nINFO:root:Listing OBS: 49000\nINFO:root:Listing OBS: 50000\nINFO:root:Listing OBS: 51000\nINFO:root:Listing OBS: 52000\nINFO:root:Listing OBS: 53000\nINFO:root:Listing OBS: 54000\nINFO:root:Listing OBS: 55000\nINFO:root:Listing OBS: 56000\nINFO:root:Listing OBS: 57000\nINFO:root:Listing OBS: 58000\nINFO:root:Listing OBS: 59000\nINFO:root:Listing OBS: 60000\nINFO:root:Listing OBS: 61000\nINFO:root:Listing OBS: 62000\nINFO:root:Listing OBS: 63000\nINFO:root:Listing OBS: 64000\nINFO:root:Listing OBS: 65000\nINFO:root:Listing OBS: 66000\nINFO:root:Listing OBS: 67000\nINFO:root:Listing OBS: 68000\nINFO:root:Listing OBS: 69000\nINFO:root:Listing OBS: 70000\nINFO:root:Listing OBS: 71000\nINFO:root:pid: None.\t1000/71903\nINFO:root:pid: None.\t2000/71903\nINFO:root:pid: None.\t3000/71903\nINFO:root:pid: None.\t4000/71903\nINFO:root:pid: None.\t5000/71903\nINFO:root:pid: None.\t6000/71903\nINFO:root:pid: None.\t7000/71903\nINFO:root:pid: None.\t8000/71903\nINFO:root:pid: None.\t9000/71903\nINFO:root:pid: None.\t10000/71903\nINFO:root:pid: None.\t11000/71903\nINFO:root:pid: None.\t12000/71903\nINFO:root:pid: None.\t13000/71903\nINFO:root:pid: None.\t14000/71903\nINFO:root:pid: None.\t15000/71903\nINFO:root:pid: None.\t16000/71903\nINFO:root:pid: None.\t17000/71903\nINFO:root:pid: None.\t18000/71903\nINFO:root:pid: None.\t19000/71903\nINFO:root:pid: None.\t20000/71903\nINFO:root:pid: None.\t21000/71903\nINFO:root:pid: None.\t22000/71903\nINFO:root:pid: None.\t23000/71903\nINFO:root:pid: None.\t24000/71903\nINFO:root:pid: None.\t25000/71903\nINFO:root:pid: None.\t26000/71903\nINFO:root:pid: None.\t27000/71903\nINFO:root:pid: None.\t28000/71903\nINFO:root:pid: None.\t29000/71903\nINFO:root:pid: None.\t30000/71903\nINFO:root:pid: None.\t31000/71903\nINFO:root:pid: None.\t32000/71903\nINFO:root:pid: None.\t33000/71903\nINFO:root:pid: None.\t34000/71903\nINFO:root:pid: None.\t35000/71903\nINFO:root:pid: None.\t36000/71903\nINFO:root:pid: None.\t37000/71903\nINFO:root:pid: None.\t38000/71903\nINFO:root:pid: None.\t39000/71903\nINFO:root:pid: None.\t40000/71903\nINFO:root:pid: None.\t41000/71903\nINFO:root:pid: None.\t42000/71903\nINFO:root:pid: None.\t43000/71903\nINFO:root:pid: None.\t44000/71903\nINFO:root:pid: None.\t45000/71903\nINFO:root:pid: None.\t46000/71903\nINFO:root:pid: None.\t47000/71903\nINFO:root:pid: None.\t48000/71903\nINFO:root:pid: None.\t49000/71903\nINFO:root:pid: None.\t50000/71903\nINFO:root:pid: None.\t51000/71903\nINFO:root:pid: None.\t52000/71903\nINFO:root:pid: None.\t53000/71903\nINFO:root:pid: None.\t54000/71903\nINFO:root:pid: None.\t55000/71903\nINFO:root:pid: None.\t56000/71903\nINFO:root:pid: None.\t57000/71903\nINFO:root:pid: None.\t58000/71903\nINFO:root:pid: None.\t59000/71903\nINFO:root:pid: None.\t60000/71903\nINFO:root:pid: None.\t61000/71903\nINFO:root:pid: None.\t62000/71903\nINFO:root:pid: None.\t63000/71903\nINFO:root:pid: None.\t64000/71903\nINFO:root:pid: None.\t65000/71903\nINFO:root:pid: None.\t66000/71903\nINFO:root:pid: None.\t67000/71903\nINFO:root:pid: None.\t68000/71903\nINFO:root:pid: None.\t69000/71903\nINFO:root:pid: None.\t70000/71903\nINFO:root:pid: None.\t71000/71903\nINFO:root:Listing OBS: 1000\nINFO:root:Listing OBS: 2000\nINFO:root:Listing OBS: 3000\nINFO:root:Listing OBS: 4000\nINFO:root:Listing OBS: 5000\nINFO:root:Listing OBS: 6000\nINFO:root:Listing OBS: 7000\nINFO:root:Listing OBS: 8000\nINFO:root:Listing OBS: 9000\nINFO:root:Listing OBS: 10000\nINFO:root:Listing OBS: 11000\nINFO:root:Listing OBS: 12000\nINFO:root:Listing OBS: 13000\nINFO:root:pid: None.\t1000/13564\nINFO:root:pid: None.\t2000/13564\nINFO:root:pid: None.\t3000/13564\nINFO:root:pid: None.\t4000/13564\nINFO:root:pid: None.\t5000/13564\nINFO:root:pid: None.\t6000/13564\nINFO:root:pid: None.\t7000/13564\nINFO:root:pid: None.\t8000/13564\nINFO:root:pid: None.\t9000/13564\nINFO:root:pid: None.\t10000/13564\nINFO:root:pid: None.\t11000/13564\nINFO:root:pid: None.\t12000/13564\nINFO:root:pid: None.\t13000/13564\n"
    }
   ]
  },
  {
   "cell_type": "code",
   "source": "!pip install tqdm",
   "metadata": {
    "pycharm": {
     "name": "#%%\n"
    },
    "trusted": true
   },
   "execution_count": 1,
   "outputs": [
    {
     "name": "stdout",
     "text": "Looking in indexes: http://repo.myhuaweicloud.com/repository/pypi/simple\nRequirement already satisfied: tqdm in /home/ma-user/miniconda3/envs/MindSpore-python3.7-aarch64/lib/python3.7/site-packages (4.63.1)\n",
     "output_type": "stream"
    }
   ]
  },
  {
   "cell_type": "code",
   "source": "import moxing as mox\nmox.file.copy_parallel(src_url=\"s3://focus/nlp/nlp_vqa/san.py\", dst_url='./san.py')\nmox.file.copy_parallel(src_url=\"s3://focus/nlp/nlp_vqa/dataset.py\", dst_url='./dataset.py')",
   "metadata": {
    "trusted": true
   },
   "execution_count": 1,
   "outputs": [
    {
     "name": "stderr",
     "text": "INFO:root:Using MoXing-v2.0.0.rc2.4b57a67b-4b57a67b\nINFO:root:Using OBS-Python-SDK-3.20.9.1\n",
     "output_type": "stream"
    }
   ]
  },
  {
   "cell_type": "code",
   "source": "import sys\nimport os.path\nimport mindspore\nfrom mindspore import Tensor, nn, Model, context\nfrom mindspore import load_checkpoint, load_param_into_net\nfrom mindspore import ops\nfrom mindspore.ops import functional as F\nfrom mindspore.ops import composite as C\nfrom mindspore.common.parameter import ParameterTuple\nfrom mindspore.train.callback import LossMonitor, CheckpointConfig, ModelCheckpoint, TimeMonitor\nimport numpy as np\nfrom tqdm import tqdm\nimport config\nimport dataset\nimport san\nimport utils\nimport mindspore.context as context\nimport json\nimport math\nfrom datetime import datetime\nfrom bert4ms import models \nfrom mindspore.nn import TrainOneStepCell\ncontext.set_context(mode=context.PYNATIVE_MODE, device_target='Ascend')",
   "metadata": {
    "pycharm": {
     "name": "#%%\n"
    },
    "trusted": true
   },
   "execution_count": 2,
   "outputs": []
  },
  {
   "cell_type": "code",
   "execution_count": null,
   "outputs": [],
   "source": [
    "class WithLossCell(nn.Cell):\n",
    "    def __init__(self, model):\n",
    "        super(WithLossCell, self).__init__(auto_prefix=False)\n",
    "        self.loss = nn.SoftmaxCrossEntropyWithLogits()\n",
    "        self.net = model\n",
    "\n",
    "    def construct(self, q, a, img):\n",
    "        out = self.net(q, img)\n",
    "        loss = self.loss(out, a)\n",
    "        return loss\n",
    "    \n",
    "\n",
    "class WithAccuracy(nn.Cell):\n",
    "    def __init__(self, model):\n",
    "        super(WithAccuracy, self).__init__(auto_prefix=False)\n",
    "        self.net = model\n",
    "\n",
    "    def construct(self, q, a, img):\n",
    "        out = self.net(q, img)\n",
    "        out = ops.Argmax(output_type=mindspore.int32)(out)\n",
    "        return out, a"
   ],
   "metadata": {
    "collapsed": false,
    "pycharm": {
     "name": "#%%\n"
    }
   }
  },
  {
   "cell_type": "code",
   "execution_count": null,
   "outputs": [],
   "source": [
    "if __name__ == '__main__':\n",
    "\n",
    "    val_loader = dataset.get_loader(val=True)\n",
    "\n",
    "    model = san.SANModel()\n",
    "    opt = nn.Adam(params=model.trainable_params())\n",
    "    net_with_loss = WithLossCell(model)\n",
    "    train_net = TrainOneStepCell(net_with_loss, opt)\n",
    "    train_net.set_train(True)\n",
    "    \n",
    "    eval_net = WithAccuracy(model)\n",
    "    eval_net.set_train(False)\n",
    "\n",
    "    for epoch in range(config.epochs):\n",
    "        losses = []\n",
    "        accs = []\n",
    "        train_loader = dataset.get_loader(train=True)\n",
    "        \n",
    "        step = 0\n",
    "        tq = tqdm(train_loader, desc='{} EPOCH{:02d}'.format('train', epoch), ncols=0, total=math.ceil(len(train_loader.source.questions) / config.batch_size))\n",
    "        for q, a, img in tq:\n",
    "            loss = train_net(q, a, img)\n",
    "            batch_loss = loss.asnumpy().reshape(-1).mean()\n",
    "            print(\"Epoch:{},Step:{},Loss:{}\".format(epoch,step,batch_loss))\n",
    "            step += 1\n",
    "            losses.append(batch_loss)\n",
    "            \n",
    "        print(\"Epoch {} done.Train Loss:{}\".format(epoch,np.array(losses).mean()))\n",
    "        \n",
    "        step = 0\n",
    "        tq = tqdm(val_loader, desc='{} EPOCH{:02d}'.format('val', epoch), ncols=0, total=math.ceil(len(val_loader.source.questions) / config.batch_size))\n",
    "        for q, a, img in tq:\n",
    "            out, a = eval_net(q, a, img)\n",
    "            predicted = out.asnumpy()\n",
    "            ans = a.asnumpy()\n",
    "            batch_size = ans.shape[0]\n",
    "            acc = 0\n",
    "            for i in range(batch_size):\n",
    "                if ans[i,predicted[i]]!=0:\n",
    "                    acc += 1\n",
    "            accuracy = acc / batch_size\n",
    "            print(\"Epoch:{},Step:{},Accuracy:{},Predicted:{}\".format(epoch,step,accuracy,predicted))\n",
    "            step += 1\n",
    "            accs.append(accuracy)\n",
    "            \n",
    "        print(\"Epoch {} done.Val Accuracy:{}\".format(epoch,np.array(accs).mean()))"
   ],
   "metadata": {
    "collapsed": false,
    "pycharm": {
     "name": "#%%\n"
    }
   }
  },
  {
   "cell_type": "code",
   "source": "",
   "metadata": {},
   "execution_count": null,
   "outputs": []
  }
 ]
}